{
 "cells": [
  {
   "cell_type": "code",
   "execution_count": 2,
   "id": "c8a52fa9-e11a-4571-985e-c999422da3cb",
   "metadata": {},
   "outputs": [],
   "source": [
    "import boto3"
   ]
  },
  {
   "cell_type": "code",
   "execution_count": 3,
   "id": "5f7ee98a-e7b6-4b71-b518-2ea37de7c92f",
   "metadata": {},
   "outputs": [
    {
     "name": "stdout",
     "output_type": "stream",
     "text": [
      "{'Buckets': [{'CreationDate': datetime.datetime(2024, 3, 25, 16, 54, 23, tzinfo=tzlocal()),\n",
      "              'Name': 'cf-templates-4mmcwmbx1moy-us-east-1'},\n",
      "             {'CreationDate': datetime.datetime(2024, 4, 3, 6, 42, 45, tzinfo=tzlocal()),\n",
      "              'Name': 'com-merck-genaibootcamp-apr24'}],\n",
      " 'Owner': {'DisplayName': 'mmc-desx-RYM9',\n",
      "           'ID': '3f8c12970bce46d015a0eeb99bc12123f4f6473d24ce9ae417e08fed8ae3fbd0'},\n",
      " 'ResponseMetadata': {'HTTPHeaders': {'content-type': 'application/xml',\n",
      "                                      'date': 'Mon, 08 Apr 2024 11:47:43 GMT',\n",
      "                                      'server': 'AmazonS3',\n",
      "                                      'transfer-encoding': 'chunked',\n",
      "                                      'x-amz-id-2': 'MzZ2L5FiSSptoc3Xdid/qGSyZ+Agug+ZARHQxGXYxeAoQ08PbyV8+ntFfYNMZFlvFFE3CzB8kaU=',\n",
      "                                      'x-amz-request-id': '6G63Q3YJWAZTD98C'},\n",
      "                      'HTTPStatusCode': 200,\n",
      "                      'HostId': 'MzZ2L5FiSSptoc3Xdid/qGSyZ+Agug+ZARHQxGXYxeAoQ08PbyV8+ntFfYNMZFlvFFE3CzB8kaU=',\n",
      "                      'RequestId': '6G63Q3YJWAZTD98C',\n",
      "                      'RetryAttempts': 0}}\n"
     ]
    }
   ],
   "source": [
    "from pprint import pprint\n",
    "client = boto3.client('s3')\n",
    "\n",
    "response = client.list_buckets()\n",
    "pprint(response)"
   ]
  },
  {
   "cell_type": "code",
   "execution_count": 4,
   "id": "a57c2c92-4104-4b25-8898-e59d4b4716ef",
   "metadata": {},
   "outputs": [],
   "source": [
    "bucket_name = \"com-merck-genaibootcamp-apr24\""
   ]
  },
  {
   "cell_type": "code",
   "execution_count": 5,
   "id": "2f76348a-3443-4d0f-9a28-fe8ca8a6e0ce",
   "metadata": {},
   "outputs": [
    {
     "name": "stdout",
     "output_type": "stream",
     "text": [
      "['IV_model_selection/', 'IV_model_selection/Day_4.ipynb', 'IV_model_selection/Day_4_exercise_n2.ipynb', 'IV_model_selection/Recall.txt', 'MSL_Notes_1.pdf', 'MSL_Notes_10.pdf', 'MSL_Notes_11.pdf', 'MSL_Notes_12.pdf', 'MSL_Notes_13.pdf', 'MSL_Notes_14.pdf', 'MSL_Notes_15.pdf', 'MSL_Notes_16.pdf', 'MSL_Notes_17.pdf', 'MSL_Notes_18.pdf', 'MSL_Notes_19.pdf', 'MSL_Notes_2.pdf', 'MSL_Notes_20.pdf', 'MSL_Notes_21.pdf', 'MSL_Notes_22.pdf', 'MSL_Notes_23.pdf', 'MSL_Notes_24.pdf', 'MSL_Notes_25.pdf', 'MSL_Notes_26.pdf', 'MSL_Notes_27.pdf', 'MSL_Notes_28.pdf', 'MSL_Notes_29.pdf', 'MSL_Notes_3.pdf', 'MSL_Notes_30.pdf', 'MSL_Notes_31.pdf', 'MSL_Notes_32.pdf', 'MSL_Notes_33.pdf', 'MSL_Notes_34.pdf', 'MSL_Notes_35.pdf', 'MSL_Notes_4.pdf', 'MSL_Notes_5.pdf', 'MSL_Notes_6.pdf', 'MSL_Notes_7.pdf', 'MSL_Notes_8.pdf', 'MSL_Notes_9.pdf']\n"
     ]
    }
   ],
   "source": [
    "response = client.list_objects(Bucket=bucket_name)\n",
    "# pprint(response)\n",
    "\n",
    "file_keys = [item[\"Key\"] for item in response[\"Contents\"]]\n",
    "print(file_keys)"
   ]
  },
  {
   "cell_type": "code",
   "execution_count": 6,
   "id": "e2b45ae1-3681-4cf3-a4f9-40a30587a562",
   "metadata": {},
   "outputs": [],
   "source": [
    "s3 = boto3.resource('s3')\n",
    "\n",
    "for file_key in [\"IV_model_selection/Day_4.ipynb\", \"IV_model_selection/Day_4_exercise_n2.ipynb\", \"IV_model_selection/Recall.txt\"]:\n",
    "    s3.meta.client.download_file(bucket_name, file_key, file_key.split(\"/\")[1])"
   ]
  },
  {
   "cell_type": "code",
   "execution_count": null,
   "id": "51a55c4c-2b43-4f28-ab70-66e979e548ff",
   "metadata": {},
   "outputs": [],
   "source": []
  }
 ],
 "metadata": {
  "kernelspec": {
   "display_name": "Python 3 (ipykernel)",
   "language": "python",
   "name": "python3"
  },
  "language_info": {
   "codemirror_mode": {
    "name": "ipython",
    "version": 3
   },
   "file_extension": ".py",
   "mimetype": "text/x-python",
   "name": "python",
   "nbconvert_exporter": "python",
   "pygments_lexer": "ipython3",
   "version": "3.9.17"
  }
 },
 "nbformat": 4,
 "nbformat_minor": 5
}
