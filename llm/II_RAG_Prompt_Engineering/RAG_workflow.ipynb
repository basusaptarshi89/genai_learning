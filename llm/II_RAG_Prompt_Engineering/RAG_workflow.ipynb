{
 "cells": [
  {
   "cell_type": "markdown",
   "metadata": {},
   "source": [
    "**Metadata RAG Workflow**\n",
    "\n",
    "By working through this Jupyter Notebook together, we'll gain hands-on experience in using LangChain to generate column descriptions for rows with missing values in a dataset. We'll learn how to leverage the LlamaCpp language model and few-shot learning techniques to generate descriptions based on semantically similar examples.\n",
    "\n",
    "Let's dive in and start generating those column descriptions!\n"
   ]
  },
  {
   "cell_type": "markdown",
   "metadata": {},
   "source": [
    "Add the following packages"
   ]
  },
  {
   "cell_type": "code",
   "execution_count": 1,
   "metadata": {},
   "outputs": [
    {
     "name": "stdout",
     "output_type": "stream",
     "text": [
      "\u001b[33mWARNING: Ignoring invalid distribution -ackaging (/opt/conda/envs/pytorch/lib/python3.9/site-packages)\u001b[0m\u001b[33m\n",
      "\u001b[0m\u001b[33mWARNING: Ignoring invalid distribution -ackaging (/opt/conda/envs/pytorch/lib/python3.9/site-packages)\u001b[0m\u001b[33m\n",
      "\u001b[0mRequirement already satisfied: langchain-community==0.0.31 in /opt/conda/envs/pytorch/lib/python3.9/site-packages (0.0.31)\n",
      "Requirement already satisfied: sentence-transformers==2.6.1 in /opt/conda/envs/pytorch/lib/python3.9/site-packages (2.6.1)\n",
      "Requirement already satisfied: pandas in /opt/conda/envs/pytorch/lib/python3.9/site-packages (1.4.4)\n",
      "Requirement already satisfied: faiss-cpu==1.8.0 in /opt/conda/envs/pytorch/lib/python3.9/site-packages (1.8.0)\n",
      "Requirement already satisfied: openpyxl in /opt/conda/envs/pytorch/lib/python3.9/site-packages (3.1.2)\n",
      "Requirement already satisfied: transformers==4.37.2 in /opt/conda/envs/pytorch/lib/python3.9/site-packages (4.37.2)\n",
      "Requirement already satisfied: datasets in /opt/conda/envs/pytorch/lib/python3.9/site-packages (2.18.0)\n",
      "Requirement already satisfied: peft==0.8.2 in /opt/conda/envs/pytorch/lib/python3.9/site-packages (0.8.2)\n",
      "Requirement already satisfied: dataclasses-json<0.7,>=0.5.7 in /opt/conda/envs/pytorch/lib/python3.9/site-packages (from langchain-community==0.0.31) (0.6.4)\n",
      "Requirement already satisfied: requests<3,>=2 in /opt/conda/envs/pytorch/lib/python3.9/site-packages (from langchain-community==0.0.31) (2.31.0)\n",
      "Requirement already satisfied: tenacity<9.0.0,>=8.1.0 in /opt/conda/envs/pytorch/lib/python3.9/site-packages (from langchain-community==0.0.31) (8.2.3)\n",
      "Requirement already satisfied: aiohttp<4.0.0,>=3.8.3 in /opt/conda/envs/pytorch/lib/python3.9/site-packages (from langchain-community==0.0.31) (3.9.3)\n",
      "Requirement already satisfied: SQLAlchemy<3,>=1.4 in /opt/conda/envs/pytorch/lib/python3.9/site-packages (from langchain-community==0.0.31) (2.0.29)\n",
      "Requirement already satisfied: langchain-core<0.2.0,>=0.1.37 in /opt/conda/envs/pytorch/lib/python3.9/site-packages (from langchain-community==0.0.31) (0.1.40)\n",
      "Requirement already satisfied: numpy<2,>=1 in /opt/conda/envs/pytorch/lib/python3.9/site-packages (from langchain-community==0.0.31) (1.24.4)\n",
      "Requirement already satisfied: langsmith<0.2.0,>=0.1.0 in /opt/conda/envs/pytorch/lib/python3.9/site-packages (from langchain-community==0.0.31) (0.1.40)\n",
      "Requirement already satisfied: PyYAML>=5.3 in /opt/conda/envs/pytorch/lib/python3.9/site-packages (from langchain-community==0.0.31) (6.0)\n",
      "Requirement already satisfied: torch>=1.11.0 in /opt/conda/envs/pytorch/lib/python3.9/site-packages (from sentence-transformers==2.6.1) (1.13.1)\n",
      "Requirement already satisfied: scikit-learn in /opt/conda/envs/pytorch/lib/python3.9/site-packages (from sentence-transformers==2.6.1) (1.0)\n",
      "Requirement already satisfied: tqdm in /opt/conda/envs/pytorch/lib/python3.9/site-packages (from sentence-transformers==2.6.1) (4.63.2)\n",
      "Requirement already satisfied: huggingface-hub>=0.15.1 in /opt/conda/envs/pytorch/lib/python3.9/site-packages (from sentence-transformers==2.6.1) (0.22.2)\n",
      "Requirement already satisfied: Pillow in /opt/conda/envs/pytorch/lib/python3.9/site-packages (from sentence-transformers==2.6.1) (10.0.0)\n",
      "Requirement already satisfied: scipy in /opt/conda/envs/pytorch/lib/python3.9/site-packages (from sentence-transformers==2.6.1) (1.11.1)\n",
      "Requirement already satisfied: safetensors>=0.4.1 in /opt/conda/envs/pytorch/lib/python3.9/site-packages (from transformers==4.37.2) (0.4.2)\n",
      "Requirement already satisfied: regex!=2019.12.17 in /opt/conda/envs/pytorch/lib/python3.9/site-packages (from transformers==4.37.2) (2023.12.25)\n",
      "Requirement already satisfied: filelock in /opt/conda/envs/pytorch/lib/python3.9/site-packages (from transformers==4.37.2) (3.6.0)\n",
      "Requirement already satisfied: packaging>=20.0 in /opt/conda/envs/pytorch/lib/python3.9/site-packages (from transformers==4.37.2) (23.2)\n",
      "Requirement already satisfied: tokenizers<0.19,>=0.14 in /opt/conda/envs/pytorch/lib/python3.9/site-packages (from transformers==4.37.2) (0.15.2)\n",
      "Requirement already satisfied: accelerate>=0.21.0 in /opt/conda/envs/pytorch/lib/python3.9/site-packages (from peft==0.8.2) (0.28.0)\n",
      "Requirement already satisfied: psutil in /opt/conda/envs/pytorch/lib/python3.9/site-packages (from peft==0.8.2) (5.9.5)\n",
      "Requirement already satisfied: python-dateutil>=2.8.1 in /opt/conda/envs/pytorch/lib/python3.9/site-packages (from pandas) (2.8.2)\n",
      "Requirement already satisfied: pytz>=2020.1 in /opt/conda/envs/pytorch/lib/python3.9/site-packages (from pandas) (2023.3)\n",
      "Requirement already satisfied: et-xmlfile in /opt/conda/envs/pytorch/lib/python3.9/site-packages (from openpyxl) (1.1.0)\n",
      "Requirement already satisfied: fsspec[http]<=2024.2.0,>=2023.1.0 in /opt/conda/envs/pytorch/lib/python3.9/site-packages (from datasets) (2023.6.0)\n",
      "Requirement already satisfied: pyarrow>=12.0.0 in /opt/conda/envs/pytorch/lib/python3.9/site-packages (from datasets) (12.0.1)\n",
      "Requirement already satisfied: dill<0.3.9,>=0.3.0 in /opt/conda/envs/pytorch/lib/python3.9/site-packages (from datasets) (0.3.7)\n",
      "Requirement already satisfied: multiprocess in /opt/conda/envs/pytorch/lib/python3.9/site-packages (from datasets) (0.70.15)\n",
      "Requirement already satisfied: pyarrow-hotfix in /opt/conda/envs/pytorch/lib/python3.9/site-packages (from datasets) (0.6)\n",
      "Requirement already satisfied: xxhash in /opt/conda/envs/pytorch/lib/python3.9/site-packages (from datasets) (3.4.1)\n",
      "Requirement already satisfied: attrs>=17.3.0 in /opt/conda/envs/pytorch/lib/python3.9/site-packages (from aiohttp<4.0.0,>=3.8.3->langchain-community==0.0.31) (23.1.0)\n",
      "Requirement already satisfied: yarl<2.0,>=1.0 in /opt/conda/envs/pytorch/lib/python3.9/site-packages (from aiohttp<4.0.0,>=3.8.3->langchain-community==0.0.31) (1.9.4)\n",
      "Requirement already satisfied: multidict<7.0,>=4.5 in /opt/conda/envs/pytorch/lib/python3.9/site-packages (from aiohttp<4.0.0,>=3.8.3->langchain-community==0.0.31) (6.0.5)\n",
      "Requirement already satisfied: async-timeout<5.0,>=4.0 in /opt/conda/envs/pytorch/lib/python3.9/site-packages (from aiohttp<4.0.0,>=3.8.3->langchain-community==0.0.31) (4.0.3)\n",
      "Requirement already satisfied: aiosignal>=1.1.2 in /opt/conda/envs/pytorch/lib/python3.9/site-packages (from aiohttp<4.0.0,>=3.8.3->langchain-community==0.0.31) (1.3.1)\n",
      "Requirement already satisfied: frozenlist>=1.1.1 in /opt/conda/envs/pytorch/lib/python3.9/site-packages (from aiohttp<4.0.0,>=3.8.3->langchain-community==0.0.31) (1.4.1)\n",
      "Requirement already satisfied: marshmallow<4.0.0,>=3.18.0 in /opt/conda/envs/pytorch/lib/python3.9/site-packages (from dataclasses-json<0.7,>=0.5.7->langchain-community==0.0.31) (3.21.1)\n",
      "Requirement already satisfied: typing-inspect<1,>=0.4.0 in /opt/conda/envs/pytorch/lib/python3.9/site-packages (from dataclasses-json<0.7,>=0.5.7->langchain-community==0.0.31) (0.9.0)\n",
      "Requirement already satisfied: typing-extensions>=3.7.4.3 in /opt/conda/envs/pytorch/lib/python3.9/site-packages (from huggingface-hub>=0.15.1->sentence-transformers==2.6.1) (4.10.0)\n",
      "Requirement already satisfied: pydantic<3,>=1 in /opt/conda/envs/pytorch/lib/python3.9/site-packages (from langchain-core<0.2.0,>=0.1.37->langchain-community==0.0.31) (2.6.4)\n",
      "Requirement already satisfied: jsonpatch<2.0,>=1.33 in /opt/conda/envs/pytorch/lib/python3.9/site-packages (from langchain-core<0.2.0,>=0.1.37->langchain-community==0.0.31) (1.33)\n",
      "Requirement already satisfied: orjson<4.0.0,>=3.9.14 in /opt/conda/envs/pytorch/lib/python3.9/site-packages (from langsmith<0.2.0,>=0.1.0->langchain-community==0.0.31) (3.10.0)\n",
      "Requirement already satisfied: six>=1.5 in /opt/conda/envs/pytorch/lib/python3.9/site-packages (from python-dateutil>=2.8.1->pandas) (1.16.0)\n",
      "Requirement already satisfied: urllib3<3,>=1.21.1 in /opt/conda/envs/pytorch/lib/python3.9/site-packages (from requests<3,>=2->langchain-community==0.0.31) (1.26.15)\n",
      "Requirement already satisfied: idna<4,>=2.5 in /opt/conda/envs/pytorch/lib/python3.9/site-packages (from requests<3,>=2->langchain-community==0.0.31) (3.4)\n",
      "Requirement already satisfied: charset-normalizer<4,>=2 in /opt/conda/envs/pytorch/lib/python3.9/site-packages (from requests<3,>=2->langchain-community==0.0.31) (3.2.0)\n",
      "Requirement already satisfied: certifi>=2017.4.17 in /opt/conda/envs/pytorch/lib/python3.9/site-packages (from requests<3,>=2->langchain-community==0.0.31) (2023.7.22)\n",
      "Requirement already satisfied: greenlet!=0.4.17 in /opt/conda/envs/pytorch/lib/python3.9/site-packages (from SQLAlchemy<3,>=1.4->langchain-community==0.0.31) (3.0.3)\n",
      "Requirement already satisfied: joblib>=0.11 in /opt/conda/envs/pytorch/lib/python3.9/site-packages (from scikit-learn->sentence-transformers==2.6.1) (1.3.2)\n",
      "Requirement already satisfied: threadpoolctl>=2.0.0 in /opt/conda/envs/pytorch/lib/python3.9/site-packages (from scikit-learn->sentence-transformers==2.6.1) (3.2.0)\n",
      "Requirement already satisfied: jsonpointer>=1.9 in /opt/conda/envs/pytorch/lib/python3.9/site-packages (from jsonpatch<2.0,>=1.33->langchain-core<0.2.0,>=0.1.37->langchain-community==0.0.31) (2.4)\n",
      "Requirement already satisfied: annotated-types>=0.4.0 in /opt/conda/envs/pytorch/lib/python3.9/site-packages (from pydantic<3,>=1->langchain-core<0.2.0,>=0.1.37->langchain-community==0.0.31) (0.6.0)\n",
      "Requirement already satisfied: pydantic-core==2.16.3 in /opt/conda/envs/pytorch/lib/python3.9/site-packages (from pydantic<3,>=1->langchain-core<0.2.0,>=0.1.37->langchain-community==0.0.31) (2.16.3)\n",
      "Requirement already satisfied: mypy-extensions>=0.3.0 in /opt/conda/envs/pytorch/lib/python3.9/site-packages (from typing-inspect<1,>=0.4.0->dataclasses-json<0.7,>=0.5.7->langchain-community==0.0.31) (1.0.0)\n",
      "\u001b[33mWARNING: Ignoring invalid distribution -ackaging (/opt/conda/envs/pytorch/lib/python3.9/site-packages)\u001b[0m\u001b[33m\n",
      "\u001b[0m\u001b[33mWARNING: Ignoring invalid distribution -ackaging (/opt/conda/envs/pytorch/lib/python3.9/site-packages)\u001b[0m\u001b[33m\n",
      "\u001b[0m\u001b[33mWARNING: Ignoring invalid distribution -ackaging (/opt/conda/envs/pytorch/lib/python3.9/site-packages)\u001b[0m\u001b[33m\n",
      "\u001b[0m\u001b[33mWARNING: Ignoring invalid distribution -ackaging (/opt/conda/envs/pytorch/lib/python3.9/site-packages)\u001b[0m\u001b[33m\n",
      "\u001b[0m\u001b[33mWARNING: Ignoring invalid distribution -ackaging (/opt/conda/envs/pytorch/lib/python3.9/site-packages)\u001b[0m\u001b[33m\n",
      "\u001b[0m\u001b[33mWARNING: Ignoring invalid distribution -ackaging (/opt/conda/envs/pytorch/lib/python3.9/site-packages)\u001b[0m\u001b[33m\n",
      "\u001b[0mRequirement already satisfied: accelerate in /opt/conda/envs/pytorch/lib/python3.9/site-packages (0.28.0)\n",
      "Requirement already satisfied: bitsandbytes in /opt/conda/envs/pytorch/lib/python3.9/site-packages (0.43.0)\n",
      "Requirement already satisfied: trl in /opt/conda/envs/pytorch/lib/python3.9/site-packages (0.8.1)\n",
      "Requirement already satisfied: safetensors in /opt/conda/envs/pytorch/lib/python3.9/site-packages (0.4.2)\n",
      "Requirement already satisfied: lm-eval in /opt/conda/envs/pytorch/lib/python3.9/site-packages (0.4.2)\n",
      "Requirement already satisfied: gradio in /opt/conda/envs/pytorch/lib/python3.9/site-packages (4.25.0)\n",
      "Requirement already satisfied: flask in /opt/conda/envs/pytorch/lib/python3.9/site-packages (2.3.2)\n",
      "Requirement already satisfied: pgvector in /opt/conda/envs/pytorch/lib/python3.9/site-packages (0.2.5)\n",
      "Requirement already satisfied: sentence-transformers in /opt/conda/envs/pytorch/lib/python3.9/site-packages (2.6.1)\n",
      "Requirement already satisfied: langchain in /opt/conda/envs/pytorch/lib/python3.9/site-packages (0.1.14)\n",
      "Requirement already satisfied: psycopg2-binary in /opt/conda/envs/pytorch/lib/python3.9/site-packages (2.9.9)\n",
      "Requirement already satisfied: tiktoken in /opt/conda/envs/pytorch/lib/python3.9/site-packages (0.6.0)\n",
      "Requirement already satisfied: openai in /opt/conda/envs/pytorch/lib/python3.9/site-packages (1.16.1)\n",
      "Requirement already satisfied: pypdf in /opt/conda/envs/pytorch/lib/python3.9/site-packages (4.1.0)\n",
      "Requirement already satisfied: packaging>=20.0 in /opt/conda/envs/pytorch/lib/python3.9/site-packages (from accelerate) (23.2)\n",
      "Requirement already satisfied: huggingface-hub in /opt/conda/envs/pytorch/lib/python3.9/site-packages (from accelerate) (0.22.2)\n",
      "Requirement already satisfied: psutil in /opt/conda/envs/pytorch/lib/python3.9/site-packages (from accelerate) (5.9.5)\n",
      "Requirement already satisfied: numpy>=1.17 in /opt/conda/envs/pytorch/lib/python3.9/site-packages (from accelerate) (1.24.4)\n",
      "Requirement already satisfied: torch>=1.10.0 in /opt/conda/envs/pytorch/lib/python3.9/site-packages (from accelerate) (1.13.1)\n",
      "Requirement already satisfied: pyyaml in /opt/conda/envs/pytorch/lib/python3.9/site-packages (from accelerate) (6.0)\n",
      "Requirement already satisfied: transformers>=4.31.0 in /opt/conda/envs/pytorch/lib/python3.9/site-packages (from trl) (4.37.2)\n",
      "Requirement already satisfied: tyro>=0.5.11 in /opt/conda/envs/pytorch/lib/python3.9/site-packages (from trl) (0.7.3)\n",
      "Requirement already satisfied: datasets in /opt/conda/envs/pytorch/lib/python3.9/site-packages (from trl) (2.18.0)\n",
      "Requirement already satisfied: pybind11>=2.6.2 in /opt/conda/envs/pytorch/lib/python3.9/site-packages (from lm-eval) (2.9.2)\n",
      "Requirement already satisfied: sqlitedict in /opt/conda/envs/pytorch/lib/python3.9/site-packages (from lm-eval) (2.1.0)\n",
      "Requirement already satisfied: evaluate>=0.4.0 in /opt/conda/envs/pytorch/lib/python3.9/site-packages (from lm-eval) (0.4.1)\n",
      "Requirement already satisfied: tqdm-multiprocess in /opt/conda/envs/pytorch/lib/python3.9/site-packages (from lm-eval) (0.0.11)\n",
      "Requirement already satisfied: numexpr in /opt/conda/envs/pytorch/lib/python3.9/site-packages (from lm-eval) (2.10.0)\n",
      "Requirement already satisfied: more-itertools in /opt/conda/envs/pytorch/lib/python3.9/site-packages (from lm-eval) (10.2.0)\n",
      "Requirement already satisfied: rouge-score>=0.0.4 in /opt/conda/envs/pytorch/lib/python3.9/site-packages (from lm-eval) (0.1.2)\n",
      "Requirement already satisfied: zstandard in /opt/conda/envs/pytorch/lib/python3.9/site-packages (from lm-eval) (0.22.0)\n",
      "Requirement already satisfied: dill in /opt/conda/envs/pytorch/lib/python3.9/site-packages (from lm-eval) (0.3.7)\n",
      "Requirement already satisfied: jsonlines in /opt/conda/envs/pytorch/lib/python3.9/site-packages (from lm-eval) (4.0.0)\n",
      "Requirement already satisfied: word2number in /opt/conda/envs/pytorch/lib/python3.9/site-packages (from lm-eval) (1.1)\n",
      "Requirement already satisfied: scikit-learn>=0.24.1 in /opt/conda/envs/pytorch/lib/python3.9/site-packages (from lm-eval) (1.0)\n",
      "Requirement already satisfied: peft>=0.2.0 in /opt/conda/envs/pytorch/lib/python3.9/site-packages (from lm-eval) (0.8.2)\n",
      "Requirement already satisfied: pytablewriter in /opt/conda/envs/pytorch/lib/python3.9/site-packages (from lm-eval) (1.2.0)\n",
      "Requirement already satisfied: sacrebleu>=1.5.0 in /opt/conda/envs/pytorch/lib/python3.9/site-packages (from lm-eval) (2.4.1)\n",
      "Requirement already satisfied: pillow<11.0,>=8.0 in /opt/conda/envs/pytorch/lib/python3.9/site-packages (from gradio) (10.0.0)\n",
      "Requirement already satisfied: typing-extensions~=4.0 in /opt/conda/envs/pytorch/lib/python3.9/site-packages (from gradio) (4.10.0)\n",
      "Requirement already satisfied: tomlkit==0.12.0 in /opt/conda/envs/pytorch/lib/python3.9/site-packages (from gradio) (0.12.0)\n",
      "Requirement already satisfied: gradio-client==0.15.0 in /opt/conda/envs/pytorch/lib/python3.9/site-packages (from gradio) (0.15.0)\n",
      "Requirement already satisfied: pandas<3.0,>=1.0 in /opt/conda/envs/pytorch/lib/python3.9/site-packages (from gradio) (1.4.4)\n",
      "Requirement already satisfied: semantic-version~=2.0 in /opt/conda/envs/pytorch/lib/python3.9/site-packages (from gradio) (2.10.0)\n",
      "Requirement already satisfied: uvicorn>=0.14.0 in /opt/conda/envs/pytorch/lib/python3.9/site-packages (from gradio) (0.29.0)\n",
      "Requirement already satisfied: orjson~=3.0 in /opt/conda/envs/pytorch/lib/python3.9/site-packages (from gradio) (3.10.0)\n",
      "Requirement already satisfied: ffmpy in /opt/conda/envs/pytorch/lib/python3.9/site-packages (from gradio) (0.3.2)\n",
      "Requirement already satisfied: importlib-resources<7.0,>=1.3 in /opt/conda/envs/pytorch/lib/python3.9/site-packages (from gradio) (6.0.1)\n",
      "Requirement already satisfied: matplotlib~=3.0 in /opt/conda/envs/pytorch/lib/python3.9/site-packages (from gradio) (3.5.3)\n",
      "Requirement already satisfied: altair<6.0,>=4.2.0 in /opt/conda/envs/pytorch/lib/python3.9/site-packages (from gradio) (5.3.0)\n",
      "Requirement already satisfied: pydantic>=2.0 in /opt/conda/envs/pytorch/lib/python3.9/site-packages (from gradio) (2.6.4)\n",
      "Requirement already satisfied: ruff>=0.2.2 in /opt/conda/envs/pytorch/lib/python3.9/site-packages (from gradio) (0.3.5)\n",
      "Requirement already satisfied: pydub in /opt/conda/envs/pytorch/lib/python3.9/site-packages (from gradio) (0.25.1)\n",
      "Requirement already satisfied: python-multipart>=0.0.9 in /opt/conda/envs/pytorch/lib/python3.9/site-packages (from gradio) (0.0.9)\n",
      "Requirement already satisfied: fastapi in /opt/conda/envs/pytorch/lib/python3.9/site-packages (from gradio) (0.110.1)\n",
      "Requirement already satisfied: aiofiles<24.0,>=22.0 in /opt/conda/envs/pytorch/lib/python3.9/site-packages (from gradio) (23.2.1)\n",
      "Requirement already satisfied: jinja2<4.0 in /opt/conda/envs/pytorch/lib/python3.9/site-packages (from gradio) (3.1.2)\n",
      "Requirement already satisfied: httpx>=0.24.1 in /opt/conda/envs/pytorch/lib/python3.9/site-packages (from gradio) (0.27.0)\n",
      "Requirement already satisfied: typer[all]<1.0,>=0.9 in /opt/conda/envs/pytorch/lib/python3.9/site-packages (from gradio) (0.9.0)\n",
      "Requirement already satisfied: markupsafe~=2.0 in /opt/conda/envs/pytorch/lib/python3.9/site-packages (from gradio) (2.1.3)\n",
      "Requirement already satisfied: fsspec in /opt/conda/envs/pytorch/lib/python3.9/site-packages (from gradio-client==0.15.0->gradio) (2023.6.0)\n",
      "Requirement already satisfied: websockets<12.0,>=10.0 in /opt/conda/envs/pytorch/lib/python3.9/site-packages (from gradio-client==0.15.0->gradio) (11.0.3)\n",
      "Requirement already satisfied: itsdangerous>=2.1.2 in /opt/conda/envs/pytorch/lib/python3.9/site-packages (from flask) (2.1.2)\n",
      "Requirement already satisfied: blinker>=1.6.2 in /opt/conda/envs/pytorch/lib/python3.9/site-packages (from flask) (1.6.2)\n",
      "Requirement already satisfied: importlib-metadata>=3.6.0 in /opt/conda/envs/pytorch/lib/python3.9/site-packages (from flask) (6.8.0)\n",
      "Requirement already satisfied: Werkzeug>=2.3.3 in /opt/conda/envs/pytorch/lib/python3.9/site-packages (from flask) (2.3.7)\n",
      "Requirement already satisfied: click>=8.1.3 in /opt/conda/envs/pytorch/lib/python3.9/site-packages (from flask) (8.1.7)\n",
      "Requirement already satisfied: scipy in /opt/conda/envs/pytorch/lib/python3.9/site-packages (from sentence-transformers) (1.11.1)\n",
      "Requirement already satisfied: tqdm in /opt/conda/envs/pytorch/lib/python3.9/site-packages (from sentence-transformers) (4.63.2)\n",
      "Requirement already satisfied: langchain-text-splitters<0.1,>=0.0.1 in /opt/conda/envs/pytorch/lib/python3.9/site-packages (from langchain) (0.0.1)\n",
      "Requirement already satisfied: async-timeout<5.0.0,>=4.0.0 in /opt/conda/envs/pytorch/lib/python3.9/site-packages (from langchain) (4.0.3)\n",
      "Requirement already satisfied: aiohttp<4.0.0,>=3.8.3 in /opt/conda/envs/pytorch/lib/python3.9/site-packages (from langchain) (3.9.3)\n",
      "Requirement already satisfied: requests<3,>=2 in /opt/conda/envs/pytorch/lib/python3.9/site-packages (from langchain) (2.31.0)\n",
      "Requirement already satisfied: langsmith<0.2.0,>=0.1.17 in /opt/conda/envs/pytorch/lib/python3.9/site-packages (from langchain) (0.1.40)\n",
      "Requirement already satisfied: SQLAlchemy<3,>=1.4 in /opt/conda/envs/pytorch/lib/python3.9/site-packages (from langchain) (2.0.29)\n",
      "Requirement already satisfied: jsonpatch<2.0,>=1.33 in /opt/conda/envs/pytorch/lib/python3.9/site-packages (from langchain) (1.33)\n",
      "Requirement already satisfied: langchain-community<0.1,>=0.0.30 in /opt/conda/envs/pytorch/lib/python3.9/site-packages (from langchain) (0.0.31)\n",
      "Requirement already satisfied: langchain-core<0.2.0,>=0.1.37 in /opt/conda/envs/pytorch/lib/python3.9/site-packages (from langchain) (0.1.40)\n",
      "Requirement already satisfied: dataclasses-json<0.7,>=0.5.7 in /opt/conda/envs/pytorch/lib/python3.9/site-packages (from langchain) (0.6.4)\n",
      "Requirement already satisfied: tenacity<9.0.0,>=8.1.0 in /opt/conda/envs/pytorch/lib/python3.9/site-packages (from langchain) (8.2.3)\n",
      "Requirement already satisfied: regex>=2022.1.18 in /opt/conda/envs/pytorch/lib/python3.9/site-packages (from tiktoken) (2023.12.25)\n",
      "Requirement already satisfied: sniffio in /opt/conda/envs/pytorch/lib/python3.9/site-packages (from openai) (1.3.0)\n",
      "Requirement already satisfied: distro<2,>=1.7.0 in /opt/conda/envs/pytorch/lib/python3.9/site-packages (from openai) (1.9.0)\n",
      "Requirement already satisfied: anyio<5,>=3.5.0 in /opt/conda/envs/pytorch/lib/python3.9/site-packages (from openai) (3.7.1)\n",
      "Requirement already satisfied: aiosignal>=1.1.2 in /opt/conda/envs/pytorch/lib/python3.9/site-packages (from aiohttp<4.0.0,>=3.8.3->langchain) (1.3.1)\n",
      "Requirement already satisfied: frozenlist>=1.1.1 in /opt/conda/envs/pytorch/lib/python3.9/site-packages (from aiohttp<4.0.0,>=3.8.3->langchain) (1.4.1)\n",
      "Requirement already satisfied: multidict<7.0,>=4.5 in /opt/conda/envs/pytorch/lib/python3.9/site-packages (from aiohttp<4.0.0,>=3.8.3->langchain) (6.0.5)\n",
      "Requirement already satisfied: attrs>=17.3.0 in /opt/conda/envs/pytorch/lib/python3.9/site-packages (from aiohttp<4.0.0,>=3.8.3->langchain) (23.1.0)\n",
      "Requirement already satisfied: yarl<2.0,>=1.0 in /opt/conda/envs/pytorch/lib/python3.9/site-packages (from aiohttp<4.0.0,>=3.8.3->langchain) (1.9.4)\n",
      "Requirement already satisfied: jsonschema>=3.0 in /opt/conda/envs/pytorch/lib/python3.9/site-packages (from altair<6.0,>=4.2.0->gradio) (4.19.0)\n",
      "Requirement already satisfied: toolz in /opt/conda/envs/pytorch/lib/python3.9/site-packages (from altair<6.0,>=4.2.0->gradio) (0.12.1)\n",
      "Requirement already satisfied: idna>=2.8 in /opt/conda/envs/pytorch/lib/python3.9/site-packages (from anyio<5,>=3.5.0->openai) (3.4)\n",
      "Requirement already satisfied: exceptiongroup in /opt/conda/envs/pytorch/lib/python3.9/site-packages (from anyio<5,>=3.5.0->openai) (1.1.3)\n",
      "Requirement already satisfied: marshmallow<4.0.0,>=3.18.0 in /opt/conda/envs/pytorch/lib/python3.9/site-packages (from dataclasses-json<0.7,>=0.5.7->langchain) (3.21.1)\n",
      "Requirement already satisfied: typing-inspect<1,>=0.4.0 in /opt/conda/envs/pytorch/lib/python3.9/site-packages (from dataclasses-json<0.7,>=0.5.7->langchain) (0.9.0)\n",
      "Requirement already satisfied: multiprocess in /opt/conda/envs/pytorch/lib/python3.9/site-packages (from datasets->trl) (0.70.15)\n",
      "Requirement already satisfied: pyarrow>=12.0.0 in /opt/conda/envs/pytorch/lib/python3.9/site-packages (from datasets->trl) (12.0.1)\n",
      "Requirement already satisfied: pyarrow-hotfix in /opt/conda/envs/pytorch/lib/python3.9/site-packages (from datasets->trl) (0.6)\n",
      "Requirement already satisfied: filelock in /opt/conda/envs/pytorch/lib/python3.9/site-packages (from datasets->trl) (3.6.0)\n",
      "Requirement already satisfied: xxhash in /opt/conda/envs/pytorch/lib/python3.9/site-packages (from datasets->trl) (3.4.1)\n",
      "Requirement already satisfied: responses<0.19 in /opt/conda/envs/pytorch/lib/python3.9/site-packages (from evaluate>=0.4.0->lm-eval) (0.18.0)\n",
      "Requirement already satisfied: httpcore==1.* in /opt/conda/envs/pytorch/lib/python3.9/site-packages (from httpx>=0.24.1->gradio) (1.0.5)\n",
      "Requirement already satisfied: certifi in /opt/conda/envs/pytorch/lib/python3.9/site-packages (from httpx>=0.24.1->gradio) (2023.7.22)\n",
      "Requirement already satisfied: h11<0.15,>=0.13 in /opt/conda/envs/pytorch/lib/python3.9/site-packages (from httpcore==1.*->httpx>=0.24.1->gradio) (0.14.0)\n",
      "Requirement already satisfied: zipp>=0.5 in /opt/conda/envs/pytorch/lib/python3.9/site-packages (from importlib-metadata>=3.6.0->flask) (3.16.2)\n",
      "Requirement already satisfied: jsonpointer>=1.9 in /opt/conda/envs/pytorch/lib/python3.9/site-packages (from jsonpatch<2.0,>=1.33->langchain) (2.4)\n",
      "Requirement already satisfied: python-dateutil>=2.7 in /opt/conda/envs/pytorch/lib/python3.9/site-packages (from matplotlib~=3.0->gradio) (2.8.2)\n",
      "Requirement already satisfied: pyparsing>=2.2.1 in /opt/conda/envs/pytorch/lib/python3.9/site-packages (from matplotlib~=3.0->gradio) (3.1.1)\n",
      "Requirement already satisfied: fonttools>=4.22.0 in /opt/conda/envs/pytorch/lib/python3.9/site-packages (from matplotlib~=3.0->gradio) (4.42.0)\n",
      "Requirement already satisfied: kiwisolver>=1.0.1 in /opt/conda/envs/pytorch/lib/python3.9/site-packages (from matplotlib~=3.0->gradio) (1.4.4)\n",
      "Requirement already satisfied: cycler>=0.10 in /opt/conda/envs/pytorch/lib/python3.9/site-packages (from matplotlib~=3.0->gradio) (0.11.0)\n",
      "Requirement already satisfied: pytz>=2020.1 in /opt/conda/envs/pytorch/lib/python3.9/site-packages (from pandas<3.0,>=1.0->gradio) (2023.3)\n",
      "Requirement already satisfied: annotated-types>=0.4.0 in /opt/conda/envs/pytorch/lib/python3.9/site-packages (from pydantic>=2.0->gradio) (0.6.0)\n",
      "Requirement already satisfied: pydantic-core==2.16.3 in /opt/conda/envs/pytorch/lib/python3.9/site-packages (from pydantic>=2.0->gradio) (2.16.3)\n",
      "Requirement already satisfied: charset-normalizer<4,>=2 in /opt/conda/envs/pytorch/lib/python3.9/site-packages (from requests<3,>=2->langchain) (3.2.0)\n",
      "Requirement already satisfied: urllib3<3,>=1.21.1 in /opt/conda/envs/pytorch/lib/python3.9/site-packages (from requests<3,>=2->langchain) (1.26.15)\n",
      "Requirement already satisfied: six>=1.14.0 in /opt/conda/envs/pytorch/lib/python3.9/site-packages (from rouge-score>=0.0.4->lm-eval) (1.16.0)\n",
      "Requirement already satisfied: nltk in /opt/conda/envs/pytorch/lib/python3.9/site-packages (from rouge-score>=0.0.4->lm-eval) (3.8.1)\n",
      "Requirement already satisfied: absl-py in /opt/conda/envs/pytorch/lib/python3.9/site-packages (from rouge-score>=0.0.4->lm-eval) (2.1.0)\n",
      "Requirement already satisfied: portalocker in /opt/conda/envs/pytorch/lib/python3.9/site-packages (from sacrebleu>=1.5.0->lm-eval) (2.8.2)\n",
      "Requirement already satisfied: tabulate>=0.8.9 in /opt/conda/envs/pytorch/lib/python3.9/site-packages (from sacrebleu>=1.5.0->lm-eval) (0.9.0)\n",
      "Requirement already satisfied: lxml in /opt/conda/envs/pytorch/lib/python3.9/site-packages (from sacrebleu>=1.5.0->lm-eval) (5.2.1)\n",
      "Requirement already satisfied: colorama in /opt/conda/envs/pytorch/lib/python3.9/site-packages (from sacrebleu>=1.5.0->lm-eval) (0.4.4)\n",
      "Requirement already satisfied: threadpoolctl>=2.0.0 in /opt/conda/envs/pytorch/lib/python3.9/site-packages (from scikit-learn>=0.24.1->lm-eval) (3.2.0)\n",
      "Requirement already satisfied: joblib>=0.11 in /opt/conda/envs/pytorch/lib/python3.9/site-packages (from scikit-learn>=0.24.1->lm-eval) (1.3.2)\n",
      "Requirement already satisfied: greenlet!=0.4.17 in /opt/conda/envs/pytorch/lib/python3.9/site-packages (from SQLAlchemy<3,>=1.4->langchain) (3.0.3)\n",
      "Requirement already satisfied: tokenizers<0.19,>=0.14 in /opt/conda/envs/pytorch/lib/python3.9/site-packages (from transformers>=4.31.0->trl) (0.15.2)\n",
      "Requirement already satisfied: shellingham<2.0.0,>=1.3.0 in /opt/conda/envs/pytorch/lib/python3.9/site-packages (from typer[all]<1.0,>=0.9->gradio) (1.5.3)\n",
      "Requirement already satisfied: rich<14.0.0,>=10.11.0 in /opt/conda/envs/pytorch/lib/python3.9/site-packages (from typer[all]<1.0,>=0.9->gradio) (13.5.1)\n",
      "Requirement already satisfied: docstring-parser>=0.14.1 in /opt/conda/envs/pytorch/lib/python3.9/site-packages (from tyro>=0.5.11->trl) (0.16)\n",
      "Requirement already satisfied: shtab>=1.5.6 in /opt/conda/envs/pytorch/lib/python3.9/site-packages (from tyro>=0.5.11->trl) (1.7.1)\n",
      "Requirement already satisfied: starlette<0.38.0,>=0.37.2 in /opt/conda/envs/pytorch/lib/python3.9/site-packages (from fastapi->gradio) (0.37.2)\n",
      "Requirement already satisfied: pathvalidate<4,>=2.3.0 in /opt/conda/envs/pytorch/lib/python3.9/site-packages (from pytablewriter->lm-eval) (3.2.0)\n",
      "Requirement already satisfied: tabledata<2,>=1.3.1 in /opt/conda/envs/pytorch/lib/python3.9/site-packages (from pytablewriter->lm-eval) (1.3.3)\n",
      "Requirement already satisfied: setuptools>=38.3.0 in /opt/conda/envs/pytorch/lib/python3.9/site-packages (from pytablewriter->lm-eval) (68.0.0)\n",
      "Requirement already satisfied: mbstrdecoder<2,>=1.0.0 in /opt/conda/envs/pytorch/lib/python3.9/site-packages (from pytablewriter->lm-eval) (1.1.3)\n",
      "Requirement already satisfied: tcolorpy<1,>=0.0.5 in /opt/conda/envs/pytorch/lib/python3.9/site-packages (from pytablewriter->lm-eval) (0.1.4)\n",
      "Requirement already satisfied: DataProperty<2,>=1.0.1 in /opt/conda/envs/pytorch/lib/python3.9/site-packages (from pytablewriter->lm-eval) (1.0.1)\n",
      "Requirement already satisfied: typepy[datetime]<2,>=1.3.2 in /opt/conda/envs/pytorch/lib/python3.9/site-packages (from pytablewriter->lm-eval) (1.3.2)\n",
      "Requirement already satisfied: referencing>=0.28.4 in /opt/conda/envs/pytorch/lib/python3.9/site-packages (from jsonschema>=3.0->altair<6.0,>=4.2.0->gradio) (0.30.2)\n",
      "Requirement already satisfied: jsonschema-specifications>=2023.03.6 in /opt/conda/envs/pytorch/lib/python3.9/site-packages (from jsonschema>=3.0->altair<6.0,>=4.2.0->gradio) (2023.7.1)\n",
      "Requirement already satisfied: rpds-py>=0.7.1 in /opt/conda/envs/pytorch/lib/python3.9/site-packages (from jsonschema>=3.0->altair<6.0,>=4.2.0->gradio) (0.9.2)\n",
      "Requirement already satisfied: chardet<6,>=3.0.4 in /opt/conda/envs/pytorch/lib/python3.9/site-packages (from mbstrdecoder<2,>=1.0.0->pytablewriter->lm-eval) (5.2.0)\n",
      "Requirement already satisfied: markdown-it-py>=2.2.0 in /opt/conda/envs/pytorch/lib/python3.9/site-packages (from rich<14.0.0,>=10.11.0->typer[all]<1.0,>=0.9->gradio) (3.0.0)\n",
      "Requirement already satisfied: pygments<3.0.0,>=2.13.0 in /opt/conda/envs/pytorch/lib/python3.9/site-packages (from rich<14.0.0,>=10.11.0->typer[all]<1.0,>=0.9->gradio) (2.16.1)\n",
      "Requirement already satisfied: mypy-extensions>=0.3.0 in /opt/conda/envs/pytorch/lib/python3.9/site-packages (from typing-inspect<1,>=0.4.0->dataclasses-json<0.7,>=0.5.7->langchain) (1.0.0)\n",
      "Requirement already satisfied: mdurl~=0.1 in /opt/conda/envs/pytorch/lib/python3.9/site-packages (from markdown-it-py>=2.2.0->rich<14.0.0,>=10.11.0->typer[all]<1.0,>=0.9->gradio) (0.1.0)\n",
      "\u001b[33mWARNING: Ignoring invalid distribution -ackaging (/opt/conda/envs/pytorch/lib/python3.9/site-packages)\u001b[0m\u001b[33m\n",
      "\u001b[0m\u001b[33mWARNING: Ignoring invalid distribution -ackaging (/opt/conda/envs/pytorch/lib/python3.9/site-packages)\u001b[0m\u001b[33m\n",
      "\u001b[0m\u001b[33mWARNING: Ignoring invalid distribution -ackaging (/opt/conda/envs/pytorch/lib/python3.9/site-packages)\u001b[0m\u001b[33m\n",
      "\u001b[0m\u001b[33mWARNING: Ignoring invalid distribution -ackaging (/opt/conda/envs/pytorch/lib/python3.9/site-packages)\u001b[0m\u001b[33m\n",
      "\u001b[0m"
     ]
    }
   ],
   "source": [
    "!pip install langchain-community==0.0.31 sentence-transformers==2.6.1 pandas faiss-cpu==1.8.0 openpyxl transformers==4.37.2 datasets peft==0.8.2\n",
    "!pip install accelerate bitsandbytes trl safetensors lm-eval gradio flask pgvector sentence-transformers langchain psycopg2-binary tiktoken openai pypdf\n"
   ]
  },
  {
   "cell_type": "markdown",
   "metadata": {},
   "source": [
    "\n",
    "We'll start by importing the necessary libraries from LangChain, LangChain Community, and pandas."
   ]
  },
  {
   "cell_type": "code",
   "execution_count": 2,
   "metadata": {},
   "outputs": [],
   "source": [
    "# Import necessary libraries\n",
    "from langchain.prompts import FewShotPromptTemplate, PromptTemplate\n",
    "from langchain.prompts.example_selector import SemanticSimilarityExampleSelector\n",
    "from langchain_community.vectorstores import FAISS\n",
    "from langchain_community.embeddings import HuggingFaceEmbeddings\n",
    "#from langchain_community.llms import CTransformers, LlamaCpp <-- For open source runnning on CPU LlamaCppp = GGUF models, CTransformers .bin\n",
    "from sentence_transformers import SentenceTransformer, util\n",
    "import pandas as pd\n",
    "\n",
    "import torch\n",
    "from transformers import AutoModelForCausalLM, AutoTokenizer"
   ]
  },
  {
   "cell_type": "markdown",
   "metadata": {},
   "source": [
    "Adding a cosine similarity function to compare the similarity between two strings"
   ]
  },
  {
   "cell_type": "code",
   "execution_count": 3,
   "metadata": {},
   "outputs": [],
   "source": [
    "def similarity(reference: str, prediction: str) -> str:\n",
    "    model = SentenceTransformer(\"sentence-transformers/all-MiniLM-L6-v2\")\n",
    "    embedding_1 = model.encode(reference, convert_to_tensor=True)\n",
    "    embedding_2 = model.encode(prediction, convert_to_tensor=True)\n",
    "    similarity_score = util.pytorch_cos_sim(embedding_1, embedding_2).item()\n",
    "    return f\"{similarity_score:.2f}\""
   ]
  },
  {
   "cell_type": "markdown",
   "metadata": {},
   "source": [
    "We'll initialize the LlamaCpp language model with the specified parameters, such as the model path, temperature, maximum tokens, and batch size."
   ]
  },
  {
   "cell_type": "code",
   "execution_count": 4,
   "metadata": {},
   "outputs": [
    {
     "data": {
      "application/json": {
       "ascii": false,
       "bar_format": null,
       "colour": null,
       "elapsed": 0.005121469497680664,
       "initial": 0,
       "n": 0,
       "ncols": null,
       "nrows": 65,
       "postfix": null,
       "prefix": "Loading checkpoint shards",
       "rate": null,
       "total": 2,
       "unit": "it",
       "unit_divisor": 1000,
       "unit_scale": false
      },
      "application/vnd.jupyter.widget-view+json": {
       "model_id": "47d5263b6c064605be9a52088ad0eacb",
       "version_major": 2,
       "version_minor": 0
      },
      "text/plain": [
       "Loading checkpoint shards:   0%|          | 0/2 [00:00<?, ?it/s]"
      ]
     },
     "metadata": {},
     "output_type": "display_data"
    },
    {
     "data": {
      "application/json": {
       "ascii": false,
       "bar_format": null,
       "colour": null,
       "elapsed": 0.0033698081970214844,
       "initial": 0,
       "n": 0,
       "ncols": null,
       "nrows": 65,
       "postfix": null,
       "prefix": "generation_config.json",
       "rate": null,
       "total": 116,
       "unit": "B",
       "unit_divisor": 1000,
       "unit_scale": true
      },
      "application/vnd.jupyter.widget-view+json": {
       "model_id": "6e4449e5eed640c5b8017d71ca8cddce",
       "version_major": 2,
       "version_minor": 0
      },
      "text/plain": [
       "generation_config.json:   0%|          | 0.00/116 [00:00<?, ?B/s]"
      ]
     },
     "metadata": {},
     "output_type": "display_data"
    }
   ],
   "source": [
    "# THE FIRST TIME YOU RUN THIS, IT MIGHT TAKE A WHILE\n",
    "\n",
    "model_path_or_id = \"mistralai/Mistral-7B-Instruct-v0.1\"\n",
    "tokenizer = AutoTokenizer.from_pretrained(model_path_or_id)\n",
    "model = AutoModelForCausalLM.from_pretrained(\n",
    "    model_path_or_id,\n",
    "    low_cpu_mem_usage=True,\n",
    "    torch_dtype=torch.float16,\n",
    "    bnb_4bit_compute_dtype=torch.float16,\n",
    "    #use_flash_attention_2=True,\n",
    "    attn_implementation=\"flash_attention_2\",\n",
    "    load_in_4bit=True\n",
    ")\n",
    "\n",
    "def llm(prompt):\n",
    "    \"\"\"Convenience function for generating model output\"\"\"\n",
    "    # Tokenize the input\n",
    "    input_ids = tokenizer(\n",
    "        prompt, \n",
    "        return_tensors=\"pt\", \n",
    "        truncation=True).input_ids.cuda()\n",
    "    \n",
    "    # Generate new tokens based on the prompt, up to max_new_tokens\n",
    "    # Sample aacording to the parameter\n",
    "    with torch.inference_mode():\n",
    "        outputs = model.generate(\n",
    "            input_ids=input_ids, \n",
    "            max_new_tokens=20, \n",
    "            do_sample=True, \n",
    "            top_p=0.9,\n",
    "            temperature=0.1,\n",
    "            use_cache=True\n",
    "        )\n",
    "    return tokenizer.batch_decode(outputs.detach().cpu().numpy(), skip_special_tokens=True)[0][len(prompt):]\n",
    "\n",
    "# Initialize the LlamaCpp language model\n",
    "#llm = LlamaCpp(\n",
    "#    model_path=\"models/phi-2.Q5_K_M.gguf\",\n",
    "#    temperature=0.01,\n",
    "#    max_tokens=30,\n",
    "#    n_gpu_layers=-1,\n",
    "#    n_batch=512,\n",
    "#    f16_kv=True,\n",
    "#    verbose=False,\n",
    "#)"
   ]
  },
  {
   "cell_type": "markdown",
   "metadata": {},
   "source": [
    "We'll define an example prompt template using the PromptTemplate class, which specifies the input variables and the template string."
   ]
  },
  {
   "cell_type": "code",
   "execution_count": 5,
   "metadata": {},
   "outputs": [],
   "source": [
    "\n",
    "# Define the example prompt template\n",
    "example_prompt = PromptTemplate(\n",
    "    input_variables=[\"input\", \"output\"],\n",
    "    template=\"Input: {input}\\nOutput: {output}\",\n",
    ")\n"
   ]
  },
  {
   "cell_type": "markdown",
   "metadata": {},
   "source": [
    "We'll load the metadata from an Excel file using pandas and display the first 5 rows of the DataFrame to get a glimpse of the data."
   ]
  },
  {
   "cell_type": "code",
   "execution_count": 6,
   "metadata": {},
   "outputs": [
    {
     "data": {
      "text/html": [
       "<div>\n",
       "<style scoped>\n",
       "    .dataframe tbody tr th:only-of-type {\n",
       "        vertical-align: middle;\n",
       "    }\n",
       "\n",
       "    .dataframe tbody tr th {\n",
       "        vertical-align: top;\n",
       "    }\n",
       "\n",
       "    .dataframe thead th {\n",
       "        text-align: right;\n",
       "    }\n",
       "</style>\n",
       "<table border=\"1\" class=\"dataframe\">\n",
       "  <thead>\n",
       "    <tr style=\"text-align: right;\">\n",
       "      <th></th>\n",
       "      <th>TABLE_NAME</th>\n",
       "      <th>COLUMN_NAME</th>\n",
       "      <th>COLUMN_FULL_NAME</th>\n",
       "      <th>DATA_TYPE</th>\n",
       "      <th>COLUMN_DESCRIPTION</th>\n",
       "    </tr>\n",
       "  </thead>\n",
       "  <tbody>\n",
       "    <tr>\n",
       "      <th>0</th>\n",
       "      <td>PARK</td>\n",
       "      <td>FN</td>\n",
       "      <td>Full Name</td>\n",
       "      <td>STRING</td>\n",
       "      <td>This column contains the full name of the pers...</td>\n",
       "    </tr>\n",
       "    <tr>\n",
       "      <th>1</th>\n",
       "      <td>PARK</td>\n",
       "      <td>AG</td>\n",
       "      <td>Age</td>\n",
       "      <td>INTEGER</td>\n",
       "      <td>This column contains the age of the person att...</td>\n",
       "    </tr>\n",
       "    <tr>\n",
       "      <th>2</th>\n",
       "      <td>PARK</td>\n",
       "      <td>LOC</td>\n",
       "      <td>Location</td>\n",
       "      <td>STRING</td>\n",
       "      <td>This column contains the location of the park</td>\n",
       "    </tr>\n",
       "    <tr>\n",
       "      <th>3</th>\n",
       "      <td>PARK</td>\n",
       "      <td>DT</td>\n",
       "      <td>DATE</td>\n",
       "      <td>DATE</td>\n",
       "      <td>This column contains the date of the visit to ...</td>\n",
       "    </tr>\n",
       "    <tr>\n",
       "      <th>4</th>\n",
       "      <td>PARK</td>\n",
       "      <td>TM</td>\n",
       "      <td>TIME</td>\n",
       "      <td>TIME</td>\n",
       "      <td>This column contains the time of visit to the ...</td>\n",
       "    </tr>\n",
       "  </tbody>\n",
       "</table>\n",
       "</div>"
      ],
      "text/plain": [
       "  TABLE_NAME COLUMN_NAME COLUMN_FULL_NAME DATA_TYPE  \\\n",
       "0       PARK          FN        Full Name    STRING   \n",
       "1       PARK          AG              Age   INTEGER   \n",
       "2       PARK         LOC         Location    STRING   \n",
       "3       PARK          DT             DATE      DATE   \n",
       "4       PARK          TM             TIME      TIME   \n",
       "\n",
       "                                  COLUMN_DESCRIPTION  \n",
       "0  This column contains the full name of the pers...  \n",
       "1  This column contains the age of the person att...  \n",
       "2      This column contains the location of the park  \n",
       "3  This column contains the date of the visit to ...  \n",
       "4  This column contains the time of visit to the ...  "
      ]
     },
     "execution_count": 6,
     "metadata": {},
     "output_type": "execute_result"
    }
   ],
   "source": [
    "\n",
    "# Load the metadata from an Excel file\n",
    "metadata = \"data/demo_excel.xlsx\"\n",
    "df = pd.read_excel(metadata)\n",
    "df.head(5)\n"
   ]
  },
  {
   "cell_type": "markdown",
   "metadata": {},
   "source": [
    "We'll drop rows with missing values from the DataFrame to create a complete dataset that we can use as examples."
   ]
  },
  {
   "cell_type": "code",
   "execution_count": 7,
   "metadata": {},
   "outputs": [],
   "source": [
    "\n",
    "# Drop rows with missing values\n",
    "df_complete = df.dropna()"
   ]
  },
  {
   "cell_type": "markdown",
   "metadata": {},
   "source": [
    "We'll create a list of examples from the complete rows by applying a lambda function to each row. The examples will consist of the column name, full name, table name, and data type as input, and the column description as output"
   ]
  },
  {
   "cell_type": "code",
   "execution_count": 8,
   "metadata": {},
   "outputs": [],
   "source": [
    "# Create a list of examples from the complete rows\n",
    "examples = df_complete.apply(\n",
    "    lambda row: {\n",
    "        \"input\": f\"{row['TABLE_NAME']},{row['COLUMN_NAME']},{row['COLUMN_FULL_NAME']},{row['DATA_TYPE']}\",\n",
    "        \"output\": row[\"COLUMN_DESCRIPTION\"],\n",
    "    },\n",
    "    axis=1,\n",
    ").tolist()\n"
   ]
  },
  {
   "cell_type": "markdown",
   "metadata": {},
   "source": [
    "We'll initialize the SemanticSimilarityExampleSelector using the examples, embeddings, and vectorstore class. This selector will help us find the most similar examples based on semantic similarity."
   ]
  },
  {
   "cell_type": "code",
   "execution_count": 9,
   "metadata": {},
   "outputs": [],
   "source": [
    "\n",
    "# Initialize the SemanticSimilarityExampleSelector\n",
    "example_selector = SemanticSimilarityExampleSelector.from_examples(\n",
    "    examples=examples,\n",
    "    embeddings=HuggingFaceEmbeddings(\n",
    "        model_name=\"all-MiniLM-L6-v2\",\n",
    "        model_kwargs={\"device\": \"cpu\"},\n",
    "    ),\n",
    "    vectorstore_cls=FAISS,\n",
    "    k=5,\n",
    ")\n"
   ]
  },
  {
   "cell_type": "markdown",
   "metadata": {},
   "source": [
    "We'll create a few-shot prompt template using the FewShotPromptTemplate class. This template will include the example selector, example prompt, prefix, suffix, and input variables."
   ]
  },
  {
   "cell_type": "code",
   "execution_count": 10,
   "metadata": {},
   "outputs": [],
   "source": [
    "\n",
    "# Create the few-shot prompt template\n",
    "similar_prompt = FewShotPromptTemplate(\n",
    "    example_selector=example_selector,\n",
    "    example_prompt=example_prompt,\n",
    "    prefix=\"You are a column description generator. Given the following Examples below \",\n",
    "    suffix=\"predict the Output for the given input \\nInput: {metadata}\\nOutput:\",\n",
    "    input_variables=[\"metadata\"],\n",
    ")\n"
   ]
  },
  {
   "cell_type": "markdown",
   "metadata": {},
   "source": [
    "We'll select the rows with missing values from the original DataFrame to focus on the rows that need column descriptions."
   ]
  },
  {
   "cell_type": "code",
   "execution_count": 11,
   "metadata": {},
   "outputs": [],
   "source": [
    "\n",
    "# Select rows with missing values\n",
    "df_empty = df[df.isnull().any(axis=1)]\n"
   ]
  },
  {
   "cell_type": "markdown",
   "metadata": {},
   "source": [
    "We'll iterate over the first 5 rows with missing values to generate column descriptions for them. For each row, we'll create a pre-prompt string using the column name, full name, and data type. We'll format the few-shot prompt template with the pre-prompt string to create a complete prompt. We'll print the generated prompt to see how it looks."
   ]
  },
  {
   "cell_type": "code",
   "execution_count": 13,
   "metadata": {},
   "outputs": [
    {
     "name": "stderr",
     "output_type": "stream",
     "text": [
      "Asking to truncate to max_length but no maximum length is provided and the model has no predefined maximum length. Default to no truncation.\n",
      "The attention mask and the pad token id were not set. As a consequence, you may observe unexpected behavior. Please pass your input's `attention_mask` to obtain reliable results.\n",
      "Setting `pad_token_id` to `eos_token_id`:2 for open-end generation.\n"
     ]
    },
    {
     "name": "stdout",
     "output_type": "stream",
     "text": [
      "\n",
      "\n",
      "PROMPT:\n",
      "You are a column description generator. Given the following Examples below \n",
      "\n",
      "Input: ART_GALLERY,AN,Art Gallery Name,STRING\n",
      "Output: This column contains the name of the art gallery\n",
      "\n",
      "Input: DANCE_STUDIO,DS,Dance Studio Name,STRING\n",
      "Output: This column contains the name of the dance studio\n",
      "\n",
      "Input: GYM,GN,Gym Name,STRING\n",
      "Output: This column contains the name of the gym\n",
      "\n",
      "Input: SCHOOL,SN,School Name,STRING\n",
      "Output: This column contains the name of the school\n",
      "\n",
      "Input: ZOO,ZN,Zoo Name,STRING\n",
      "Output: This column contains the name of the zoo\n",
      "\n",
      "predict the Output for the given input \n",
      "Input: LAKESIDE,LS,Lakeside Name,STRING\n",
      "Output: \n",
      "\n",
      "Model Response:   This column contains the name of the lakeside\n",
      "\n",
      "\n",
      "\n",
      "\n",
      "\n",
      "\n",
      "\n",
      "\n",
      "\n",
      "\n"
     ]
    },
    {
     "data": {
      "application/json": {
       "ascii": false,
       "bar_format": null,
       "colour": null,
       "elapsed": 0.0038471221923828125,
       "initial": 0,
       "n": 0,
       "ncols": null,
       "nrows": 65,
       "postfix": null,
       "prefix": "modules.json",
       "rate": null,
       "total": 349,
       "unit": "B",
       "unit_divisor": 1000,
       "unit_scale": true
      },
      "application/vnd.jupyter.widget-view+json": {
       "model_id": "3c9947fba1c1493e848a8468d5c52ee6",
       "version_major": 2,
       "version_minor": 0
      },
      "text/plain": [
       "modules.json:   0%|          | 0.00/349 [00:00<?, ?B/s]"
      ]
     },
     "metadata": {},
     "output_type": "display_data"
    },
    {
     "data": {
      "application/json": {
       "ascii": false,
       "bar_format": null,
       "colour": null,
       "elapsed": 0.0033164024353027344,
       "initial": 0,
       "n": 0,
       "ncols": null,
       "nrows": 65,
       "postfix": null,
       "prefix": "config_sentence_transformers.json",
       "rate": null,
       "total": 116,
       "unit": "B",
       "unit_divisor": 1000,
       "unit_scale": true
      },
      "application/vnd.jupyter.widget-view+json": {
       "model_id": "cb988d76b07740719621f9bc1eee36fe",
       "version_major": 2,
       "version_minor": 0
      },
      "text/plain": [
       "config_sentence_transformers.json:   0%|          | 0.00/116 [00:00<?, ?B/s]"
      ]
     },
     "metadata": {},
     "output_type": "display_data"
    },
    {
     "data": {
      "application/json": {
       "ascii": false,
       "bar_format": null,
       "colour": null,
       "elapsed": 0.0034084320068359375,
       "initial": 0,
       "n": 0,
       "ncols": null,
       "nrows": 65,
       "postfix": null,
       "prefix": "README.md",
       "rate": null,
       "total": 10659,
       "unit": "B",
       "unit_divisor": 1000,
       "unit_scale": true
      },
      "application/vnd.jupyter.widget-view+json": {
       "model_id": "49a3f4475b5f4db0b147fa6de3d60008",
       "version_major": 2,
       "version_minor": 0
      },
      "text/plain": [
       "README.md:   0%|          | 0.00/10.7k [00:00<?, ?B/s]"
      ]
     },
     "metadata": {},
     "output_type": "display_data"
    },
    {
     "data": {
      "application/json": {
       "ascii": false,
       "bar_format": null,
       "colour": null,
       "elapsed": 0.003287076950073242,
       "initial": 0,
       "n": 0,
       "ncols": null,
       "nrows": 65,
       "postfix": null,
       "prefix": "sentence_bert_config.json",
       "rate": null,
       "total": 53,
       "unit": "B",
       "unit_divisor": 1000,
       "unit_scale": true
      },
      "application/vnd.jupyter.widget-view+json": {
       "model_id": "cb45fceb0e9d4b3a968064eee2b85d4d",
       "version_major": 2,
       "version_minor": 0
      },
      "text/plain": [
       "sentence_bert_config.json:   0%|          | 0.00/53.0 [00:00<?, ?B/s]"
      ]
     },
     "metadata": {},
     "output_type": "display_data"
    },
    {
     "data": {
      "application/json": {
       "ascii": false,
       "bar_format": null,
       "colour": null,
       "elapsed": 0.003284454345703125,
       "initial": 0,
       "n": 0,
       "ncols": null,
       "nrows": 65,
       "postfix": null,
       "prefix": "config.json",
       "rate": null,
       "total": 612,
       "unit": "B",
       "unit_divisor": 1000,
       "unit_scale": true
      },
      "application/vnd.jupyter.widget-view+json": {
       "model_id": "01576aea35fe401f84e568a6a94a7234",
       "version_major": 2,
       "version_minor": 0
      },
      "text/plain": [
       "config.json:   0%|          | 0.00/612 [00:00<?, ?B/s]"
      ]
     },
     "metadata": {},
     "output_type": "display_data"
    },
    {
     "data": {
      "application/json": {
       "ascii": false,
       "bar_format": null,
       "colour": null,
       "elapsed": 0.003867626190185547,
       "initial": 0,
       "n": 0,
       "ncols": null,
       "nrows": 65,
       "postfix": null,
       "prefix": "model.safetensors",
       "rate": null,
       "total": 90868376,
       "unit": "B",
       "unit_divisor": 1000,
       "unit_scale": true
      },
      "application/vnd.jupyter.widget-view+json": {
       "model_id": "ed60dea50e654b5d9065bb98871302ab",
       "version_major": 2,
       "version_minor": 0
      },
      "text/plain": [
       "model.safetensors:   0%|          | 0.00/90.9M [00:00<?, ?B/s]"
      ]
     },
     "metadata": {},
     "output_type": "display_data"
    },
    {
     "data": {
      "application/json": {
       "ascii": false,
       "bar_format": null,
       "colour": null,
       "elapsed": 0.004099607467651367,
       "initial": 0,
       "n": 0,
       "ncols": null,
       "nrows": 65,
       "postfix": null,
       "prefix": "tokenizer_config.json",
       "rate": null,
       "total": 350,
       "unit": "B",
       "unit_divisor": 1000,
       "unit_scale": true
      },
      "application/vnd.jupyter.widget-view+json": {
       "model_id": "f742d259d0d44effa22e1e2d4325eeb1",
       "version_major": 2,
       "version_minor": 0
      },
      "text/plain": [
       "tokenizer_config.json:   0%|          | 0.00/350 [00:00<?, ?B/s]"
      ]
     },
     "metadata": {},
     "output_type": "display_data"
    },
    {
     "data": {
      "application/json": {
       "ascii": false,
       "bar_format": null,
       "colour": null,
       "elapsed": 0.003980875015258789,
       "initial": 0,
       "n": 0,
       "ncols": null,
       "nrows": 65,
       "postfix": null,
       "prefix": "vocab.txt",
       "rate": null,
       "total": 231508,
       "unit": "B",
       "unit_divisor": 1000,
       "unit_scale": true
      },
      "application/vnd.jupyter.widget-view+json": {
       "model_id": "f2b1907a76174bff93529232036364cb",
       "version_major": 2,
       "version_minor": 0
      },
      "text/plain": [
       "vocab.txt:   0%|          | 0.00/232k [00:00<?, ?B/s]"
      ]
     },
     "metadata": {},
     "output_type": "display_data"
    },
    {
     "data": {
      "application/json": {
       "ascii": false,
       "bar_format": null,
       "colour": null,
       "elapsed": 0.003949880599975586,
       "initial": 0,
       "n": 0,
       "ncols": null,
       "nrows": 65,
       "postfix": null,
       "prefix": "tokenizer.json",
       "rate": null,
       "total": 466247,
       "unit": "B",
       "unit_divisor": 1000,
       "unit_scale": true
      },
      "application/vnd.jupyter.widget-view+json": {
       "model_id": "c9227bdd8fae494c8f34371908e229ed",
       "version_major": 2,
       "version_minor": 0
      },
      "text/plain": [
       "tokenizer.json:   0%|          | 0.00/466k [00:00<?, ?B/s]"
      ]
     },
     "metadata": {},
     "output_type": "display_data"
    },
    {
     "data": {
      "application/json": {
       "ascii": false,
       "bar_format": null,
       "colour": null,
       "elapsed": 0.00337982177734375,
       "initial": 0,
       "n": 0,
       "ncols": null,
       "nrows": 65,
       "postfix": null,
       "prefix": "special_tokens_map.json",
       "rate": null,
       "total": 112,
       "unit": "B",
       "unit_divisor": 1000,
       "unit_scale": true
      },
      "application/vnd.jupyter.widget-view+json": {
       "model_id": "64996ad2609a4343a2758aeceb1f99d9",
       "version_major": 2,
       "version_minor": 0
      },
      "text/plain": [
       "special_tokens_map.json:   0%|          | 0.00/112 [00:00<?, ?B/s]"
      ]
     },
     "metadata": {},
     "output_type": "display_data"
    },
    {
     "data": {
      "application/json": {
       "ascii": false,
       "bar_format": null,
       "colour": null,
       "elapsed": 0.0039386749267578125,
       "initial": 0,
       "n": 0,
       "ncols": null,
       "nrows": 65,
       "postfix": null,
       "prefix": "1_Pooling/config.json",
       "rate": null,
       "total": 190,
       "unit": "B",
       "unit_divisor": 1000,
       "unit_scale": true
      },
      "application/vnd.jupyter.widget-view+json": {
       "model_id": "865120fd40c64e4a98621638944b2f88",
       "version_major": 2,
       "version_minor": 0
      },
      "text/plain": [
       "1_Pooling/config.json:   0%|          | 0.00/190 [00:00<?, ?B/s]"
      ]
     },
     "metadata": {},
     "output_type": "display_data"
    },
    {
     "name": "stdout",
     "output_type": "stream",
     "text": [
      "Similarity Score (0 - Bad, 1 - Perfect Match): 1.00 \n",
      "\n"
     ]
    }
   ],
   "source": [
    "\n",
    "for i, row in df_empty.head(1).iterrows(): #We iterate over .head(x) rows\n",
    "\n",
    "    #Here we collect the examples we want to parse for the output on top of the k-examples\n",
    "    pre_prompt = f\"{row['TABLE_NAME']},{row['COLUMN_NAME']},{row['COLUMN_FULL_NAME']},{row['DATA_TYPE']}\"\n",
    "\n",
    "    #Now we load the target metadata into similar_prompt\n",
    "    prompt = similar_prompt.format(metadata=pre_prompt)\n",
    "    \n",
    "    #Here what the final prompt looks like \n",
    "    print(f\"\\n\\nPROMPT:\\n{prompt} \\n\")\n",
    "\n",
    "    #Here we parse the prompt to the LLM and receive the models repsonse\n",
    "    response = llm(prompt)\n",
    "    print(\"Model Response: \" , response)\n",
    "\n",
    "    #Here we compare the response we want, with the model response using cosine similarity\n",
    "    sim = similarity(\"This column contains the name of the Lakeside\", response)\n",
    "    print(f\"Similarity Score (0 - Bad, 1 - Perfect Match): {sim} \\n\")\n"
   ]
  },
  {
   "cell_type": "markdown",
   "metadata": {},
   "source": [
    "We'll invoke the LlamaCpp language model with the generated prompt to generate the column description.\n",
    "\n",
    "Finally, we'll print the generated column description to see the result."
   ]
  },
  {
   "cell_type": "code",
   "execution_count": 14,
   "metadata": {},
   "outputs": [
    {
     "data": {
      "text/plain": [
       "'similar_prompt = FewShotPromptTemplate(\\n    # We provide an ExampleSelector instead of examples.\\n    example_selector=example_selector,\\n    example_prompt=example_prompt,\\n    prefix=\"You are a column description generator. Given the following examples of Table Name, Column Name, Column Full Name and Data Type to Column Description below\",\\n    suffix=\"Predict the Column Description for the given Table Name, Column Name, Column Full Name and Data Type \\nInput: {metadata}\\nOutput:\",\\n    input_variables=[\"metadata\"],\\n)'"
      ]
     },
     "execution_count": 14,
     "metadata": {},
     "output_type": "execute_result"
    }
   ],
   "source": [
    "'''similar_prompt = FewShotPromptTemplate(\n",
    "    # We provide an ExampleSelector instead of examples.\n",
    "    example_selector=example_selector,\n",
    "    example_prompt=example_prompt,\n",
    "    prefix=\"You are a column description generator. Given the following examples of Table Name, Column Name, Column Full Name and Data Type to Column Description below\",\n",
    "    suffix=\"Predict the Column Description for the given Table Name, Column Name, Column Full Name and Data Type \\nInput: {metadata}\\nOutput:\",\n",
    "    input_variables=[\"metadata\"],\n",
    ")'''"
   ]
  },
  {
   "cell_type": "markdown",
   "metadata": {},
   "source": [
    "**Noticed its going abit wrong?** \n",
    "Play around with the prompt template (example that worked for me above), model paramaters and K-samples "
   ]
  }
 ],
 "metadata": {
  "kernelspec": {
   "display_name": "Python 3 (ipykernel)",
   "language": "python",
   "name": "python3"
  },
  "language_info": {
   "codemirror_mode": {
    "name": "ipython",
    "version": 3
   },
   "file_extension": ".py",
   "mimetype": "text/x-python",
   "name": "python",
   "nbconvert_exporter": "python",
   "pygments_lexer": "ipython3",
   "version": "3.9.17"
  }
 },
 "nbformat": 4,
 "nbformat_minor": 4
}
