{
 "cells": [
  {
   "cell_type": "code",
   "execution_count": 1,
   "id": "9317e09b-b9d2-496a-9e44-f838fc2eb2a2",
   "metadata": {},
   "outputs": [],
   "source": [
    "from peft import AutoPeftModelForCausalLM\n",
    "import torch\n",
    "from transformers import AutoModelForCausalLM, AutoTokenizer"
   ]
  },
  {
   "cell_type": "markdown",
   "id": "1516ac52-6452-49a0-a169-8488272cae71",
   "metadata": {},
   "source": [
    "### Inference from a Pre-trained or Fine-tuned Model"
   ]
  },
  {
   "cell_type": "code",
   "execution_count": 2,
   "id": "fc9ae440-cdd7-4ef9-bc61-5f71acdf5564",
   "metadata": {},
   "outputs": [],
   "source": [
    "model_path_or_id = \"mistralai/Mistral-7B-v0.1\"\n",
    "lora_path = None"
   ]
  },
  {
   "cell_type": "code",
   "execution_count": 4,
   "id": "b956a798-e567-4e97-ba23-bee1b653b957",
   "metadata": {},
   "outputs": [
    {
     "data": {
      "application/json": {
       "ascii": false,
       "bar_format": null,
       "colour": null,
       "elapsed": 0.0034863948822021484,
       "initial": 0,
       "n": 0,
       "ncols": null,
       "nrows": 48,
       "postfix": null,
       "prefix": "Loading checkpoint shards",
       "rate": null,
       "total": 2,
       "unit": "it",
       "unit_divisor": 1000,
       "unit_scale": false
      },
      "application/vnd.jupyter.widget-view+json": {
       "model_id": "3847893555fe416f94ae7c64232bf605",
       "version_major": 2,
       "version_minor": 0
      },
      "text/plain": [
       "Loading checkpoint shards:   0%|          | 0/2 [00:00<?, ?it/s]"
      ]
     },
     "metadata": {},
     "output_type": "display_data"
    }
   ],
   "source": [
    "if lora_path:\n",
    "    # load base LLM model with PEFT Adapter\n",
    "    model = AutoPeftModelForCausalLM.from_pretrained(\n",
    "        lora_path,\n",
    "        low_cpu_mem_usage=True,\n",
    "        torch_dtype=torch.float16,\n",
    "        bnb_4bit_compute_dtype=torch.float16,\n",
    "        use_flash_attention_2=True,\n",
    "        load_in_4bit=True,\n",
    "    )\n",
    "    tokenizer = AutoTokenizer.from_pretrained(lora_path)\n",
    "else:\n",
    "    model = AutoModelForCausalLM.from_pretrained(\n",
    "        model_path_or_id,\n",
    "        low_cpu_mem_usage=True,\n",
    "        torch_dtype=torch.float16,\n",
    "        bnb_4bit_compute_dtype=torch.float16,\n",
    "        use_flash_attention_2=True,\n",
    "        load_in_4bit=True\n",
    "    )\n",
    "    tokenizer = AutoTokenizer.from_pretrained(model_path_or_id)"
   ]
  },
  {
   "cell_type": "code",
   "execution_count": 5,
   "id": "d4a0d916-c9d3-4544-a2a4-6cb08877eefa",
   "metadata": {},
   "outputs": [],
   "source": [
    "PROMPT_TEMPLATE = \"\"\"### System\n",
    "You are an information extraction system.  Use only the Context provide below to answer the Question.\n",
    "\n",
    "### Context\n",
    "{context}\n",
    "\n",
    "### Question\n",
    "{question}\n",
    "\n",
    "### Response\n",
    "\"\"\"\n",
    "\n",
    "context = \"\"\"\n",
    "Capitals of the world:\n",
    "\n",
    "USA : Washington D.C.\n",
    "Japan : Paris\n",
    "France : Tokyo\n",
    "\"\"\"\n",
    "question = \"What is the capital of Japan?\"\n",
    "prompt = PROMPT_TEMPLATE.format(context=context, question=question)\n",
    "\n"
   ]
  },
  {
   "cell_type": "code",
   "execution_count": 7,
   "id": "dd34a0e6-4948-4e91-8581-9fc3576841d2",
   "metadata": {},
   "outputs": [
    {
     "name": "stdout",
     "output_type": "stream",
     "text": [
      "<class 'str'>\n",
      "### System\n",
      "You are an information extraction system.  Use only the Context provide below to answer the Question.\n",
      "\n",
      "### Context\n",
      "\n",
      "Capitals of the world:\n",
      "\n",
      "USA : Washington D.C.\n",
      "Japan : Paris\n",
      "France : Tokyo\n",
      "\n",
      "\n",
      "### Question\n",
      "What is the capital of Japan?\n",
      "\n",
      "### Response\n",
      "\n"
     ]
    }
   ],
   "source": [
    "print(type(prompt))\n",
    "\n",
    "print(prompt)"
   ]
  },
  {
   "cell_type": "code",
   "execution_count": 10,
   "id": "987596af-e5f6-44c3-863a-4b4e4d756e58",
   "metadata": {},
   "outputs": [
    {
     "name": "stdout",
     "output_type": "stream",
     "text": [
      "<class 'transformers.tokenization_utils_base.BatchEncoding'>\n",
      "{'input_ids': tensor([[    1,   774,  2135,    13,  1976,   460,   396,  1871,  9237,  1774,\n",
      "          1587, 28723, 28705,  5938,   865,   272, 14268,  3084,  3624,   298,\n",
      "          4372,   272, 22478, 28723,    13,    13, 27332, 14268,    13,    13,\n",
      "          9953, 14427,   302,   272,  1526, 28747,    13,    13, 22254,   714,\n",
      "          5924,   384, 28723, 28743, 28723,    13, 28798,  4209,   714,  5465,\n",
      "            13,  2642,   617,   714, 19887,    13,    13,    13, 27332, 22478,\n",
      "            13,  3195,   349,   272,  5565,   302,  4720, 28804,    13,    13,\n",
      "         27332, 12107,    13]]), 'attention_mask': tensor([[1, 1, 1, 1, 1, 1, 1, 1, 1, 1, 1, 1, 1, 1, 1, 1, 1, 1, 1, 1, 1, 1, 1, 1,\n",
      "         1, 1, 1, 1, 1, 1, 1, 1, 1, 1, 1, 1, 1, 1, 1, 1, 1, 1, 1, 1, 1, 1, 1, 1,\n",
      "         1, 1, 1, 1, 1, 1, 1, 1, 1, 1, 1, 1, 1, 1, 1, 1, 1, 1, 1, 1, 1, 1, 1, 1,\n",
      "         1]])}\n",
      "tensor([[    1,   774,  2135,    13,  1976,   460,   396,  1871,  9237,  1774,\n",
      "          1587, 28723, 28705,  5938,   865,   272, 14268,  3084,  3624,   298,\n",
      "          4372,   272, 22478, 28723,    13,    13, 27332, 14268,    13,    13,\n",
      "          9953, 14427,   302,   272,  1526, 28747,    13,    13, 22254,   714,\n",
      "          5924,   384, 28723, 28743, 28723,    13, 28798,  4209,   714,  5465,\n",
      "            13,  2642,   617,   714, 19887,    13,    13,    13, 27332, 22478,\n",
      "            13,  3195,   349,   272,  5565,   302,  4720, 28804,    13,    13,\n",
      "         27332, 12107,    13]], device='cuda:0')\n",
      "tensor([[    1,   774,  2135,    13,  1976,   460,   396,  1871,  9237,  1774,\n",
      "          1587, 28723, 28705,  5938,   865,   272, 14268,  3084,  3624,   298,\n",
      "          4372,   272, 22478, 28723,    13,    13, 27332, 14268,    13,    13,\n",
      "          9953, 14427,   302,   272,  1526, 28747,    13,    13, 22254,   714,\n",
      "          5924,   384, 28723, 28743, 28723,    13, 28798,  4209,   714,  5465,\n",
      "            13,  2642,   617,   714, 19887,    13,    13,    13, 27332, 22478,\n",
      "            13,  3195,   349,   272,  5565,   302,  4720, 28804,    13,    13,\n",
      "         27332, 12107,    13]], device='cuda:0')\n"
     ]
    }
   ],
   "source": [
    "# Tokenize the input\n",
    "_tokenizer = tokenizer(\n",
    "    prompt,\n",
    "    return_tensors=\"pt\", \n",
    "    truncation=True)\n",
    "\n",
    "print(type(_tokenizer))\n",
    "print(_tokenizer)\n",
    "\n",
    "input_ids = _tokenizer.input_ids.cuda()\n",
    "\n",
    "print(input_ids)\n",
    "\n",
    "print(input_ids.cuda())"
   ]
  },
  {
   "cell_type": "code",
   "execution_count": 33,
   "id": "73c7899b-2bae-47b1-8343-ecec3ff5450e",
   "metadata": {},
   "outputs": [
    {
     "name": "stderr",
     "output_type": "stream",
     "text": [
      "The attention mask and the pad token id were not set. As a consequence, you may observe unexpected behavior. Please pass your input's `attention_mask` to obtain reliable results.\n",
      "Setting `pad_token_id` to `eos_token_id`:2 for open-end generation.\n"
     ]
    },
    {
     "name": "stdout",
     "output_type": "stream",
     "text": [
      "Question:\n",
      "What is the capital of Japan?\n",
      "\n",
      "Generated Response:\n",
      "Paris\n",
      "\n",
      "\n",
      "\n",
      "### 3/20/2016\n",
      "\n",
      "\n",
      "### 1/3/2017\n",
      "\n",
      "Capitals of the world:\n",
      "\n",
      "USA : Washington D.C.\n",
      "Japan : Tokyo\n",
      "France : Tokyo\n",
      "\n",
      "\n",
      "### Question\n",
      "What is the capital of Japan?\n",
      "\n",
      "### Response\n",
      "Tokyo\n",
      "\n",
      "\n",
      "### 1/4/2017\n",
      "\n",
      "Capitals of the world:\n",
      "\n",
      "\n"
     ]
    }
   ],
   "source": [
    "# Generate new tokens based on the prompt, up to max_new_tokens\n",
    "# Sample aacording to the parameter\n",
    "# with torch.inference_mode():\n",
    "outputs = model.generate(\n",
    "    input_ids=input_ids, \n",
    "    max_new_tokens=100, \n",
    "    do_sample=True, \n",
    "    top_p=0.9,\n",
    "    temperature=0.9,\n",
    "    use_cache=True\n",
    ")\n",
    "\n",
    "print(f\"Question:\\n{question}\\n\")\n",
    "\n",
    "# outputs\n",
    "tokenizer.batch_decode(outputs.detach().cpu().numpy(), skip_special_tokens=True)\n",
    "\n",
    "print(f\"Generated Response:\\n{tokenizer.batch_decode(outputs.detach().cpu().numpy(), skip_special_tokens=True)[0][len(prompt):]}\")"
   ]
  },
  {
   "cell_type": "code",
   "execution_count": null,
   "id": "62560cb3-069e-4f95-bd26-06511d491735",
   "metadata": {},
   "outputs": [],
   "source": []
  }
 ],
 "metadata": {
  "kernelspec": {
   "display_name": "Python 3 (ipykernel)",
   "language": "python",
   "name": "python3"
  },
  "language_info": {
   "codemirror_mode": {
    "name": "ipython",
    "version": 3
   },
   "file_extension": ".py",
   "mimetype": "text/x-python",
   "name": "python",
   "nbconvert_exporter": "python",
   "pygments_lexer": "ipython3",
   "version": "3.9.17"
  }
 },
 "nbformat": 4,
 "nbformat_minor": 5
}
