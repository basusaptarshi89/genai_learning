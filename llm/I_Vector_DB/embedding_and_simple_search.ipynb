{
 "cells": [
  {
   "cell_type": "code",
   "execution_count": 16,
   "id": "01c1fbce-9735-404d-8177-c833d5dad33f",
   "metadata": {},
   "outputs": [],
   "source": [
    "from sentence_transformers import SentenceTransformer, util"
   ]
  },
  {
   "cell_type": "code",
   "execution_count": 17,
   "id": "ef6e91dd-322a-4ad1-8aa8-c84d933acec1",
   "metadata": {},
   "outputs": [],
   "source": [
    "model = SentenceTransformer(\n",
    "    model_name_or_path=\"BAAI/bge-large-en-v1.5\",\n",
    "    device=\"cuda\"\n",
    ")"
   ]
  },
  {
   "cell_type": "code",
   "execution_count": 18,
   "id": "36552cfc-88c7-4ca3-91eb-a30848ac45e7",
   "metadata": {},
   "outputs": [],
   "source": [
    "sample_docs = [\n",
    "    \"Pigs are stout-bodied, short-legged, omnivorous mammals, with thick skin usually sparsely coated with short bristles\",\n",
    "    \"Cows are four-footed and have a large body. It has two horns, two eyes plus two ears and one nose and a mouth. Cows are herbivorous animals.\",\n",
    "    \"Chickens are average-sized fowls, characterized by smaller heads, short beaks and wings, and a round body perched on featherless legs.\",\n",
    "    \"NumPy (Numerical Python) is an open source Python library that's used in almost every field of science and engineering. It's the universal standard for working with numerical data in Python, and it's at the core of the scientific Python and PyData ecosystems.\"\n",
    "]"
   ]
  },
  {
   "cell_type": "code",
   "execution_count": 19,
   "id": "724dbd16-ecd4-4960-84d4-be504c9a9a86",
   "metadata": {},
   "outputs": [
    {
     "name": "stdout",
     "output_type": "stream",
     "text": [
      "[[ 0.03743297  0.0098348   0.0515419  ... -0.01589401  0.00090886\n",
      "  -0.04270858]\n",
      " [ 0.01551647 -0.00368842 -0.00027022 ...  0.00770947 -0.01678138\n",
      "   0.00631208]\n",
      " [ 0.00284758  0.01925585  0.02077549 ... -0.00314734  0.0141667\n",
      "  -0.03367088]\n",
      " [ 0.01973291  0.00506833 -0.04329247 ...  0.01556299 -0.00930898\n",
      "   0.01117883]]\n"
     ]
    }
   ],
   "source": [
    "embeddings = model.encode(\n",
    "    sentences=sample_docs,\n",
    "    normalize_embeddings=True\n",
    ")\n",
    "\n",
    "print(embeddings)"
   ]
  },
  {
   "cell_type": "code",
   "execution_count": 35,
   "id": "8e719f87-13fd-4b68-9e18-23c391c0948d",
   "metadata": {},
   "outputs": [
    {
     "name": "stdout",
     "output_type": "stream",
     "text": [
      "[(array([ 0.03743297,  0.0098348 ,  0.0515419 , ..., -0.01589401,\n",
      "        0.00090886, -0.04270858], dtype=float32),\n",
      "  'Pigs are stout-bodied, short-legged, omnivorous mammals, with thick skin '\n",
      "  'usually sparsely coated with short bristles'),\n",
      " (array([ 0.01551647, -0.00368842, -0.00027022, ...,  0.00770947,\n",
      "       -0.01678138,  0.00631208], dtype=float32),\n",
      "  'Cows are four-footed and have a large body. It has two horns, two eyes plus '\n",
      "  'two ears and one nose and a mouth. Cows are herbivorous animals.'),\n",
      " (array([ 0.00284758,  0.01925585,  0.02077549, ..., -0.00314734,\n",
      "        0.0141667 , -0.03367088], dtype=float32),\n",
      "  'Chickens are average-sized fowls, characterized by smaller heads, short '\n",
      "  'beaks and wings, and a round body perched on featherless legs.'),\n",
      " (array([ 0.01973291,  0.00506833, -0.04329247, ...,  0.01556299,\n",
      "       -0.00930898,  0.01117883], dtype=float32),\n",
      "  \"NumPy (Numerical Python) is an open source Python library that's used in \"\n",
      "  \"almost every field of science and engineering. It's the universal standard \"\n",
      "  \"for working with numerical data in Python, and it's at the core of the \"\n",
      "  'scientific Python and PyData ecosystems.')]\n"
     ]
    }
   ],
   "source": [
    "from pprint import pprint\n",
    "\n",
    "my_vector_store = list(zip(embeddings, sample_docs))\n",
    "\n",
    "pprint(list(my_vector_store))"
   ]
  },
  {
   "cell_type": "code",
   "execution_count": 26,
   "id": "5ac7cd0f-b569-4b0e-b443-39ed29cb7f3a",
   "metadata": {},
   "outputs": [],
   "source": [
    "# serach\n",
    "\n",
    "search_text = \"what is a hog?\""
   ]
  },
  {
   "cell_type": "code",
   "execution_count": 27,
   "id": "651ffe58-8b5b-417b-b0aa-72069260b199",
   "metadata": {},
   "outputs": [
    {
     "name": "stdout",
     "output_type": "stream",
     "text": [
      "[ 0.02994812 -0.02032637 -0.02611768 ... -0.00986228  0.0254914\n",
      " -0.01094405]\n"
     ]
    }
   ],
   "source": [
    "# compute serch text embedding\n",
    "\n",
    "search_vector = model.encode(search_text, normalize_embeddings=True) \n",
    "\n",
    "print(search_vector)"
   ]
  },
  {
   "cell_type": "code",
   "execution_count": 42,
   "id": "9db6d987-03fe-4ad5-96e9-c31b59c1a67e",
   "metadata": {},
   "outputs": [
    {
     "name": "stdout",
     "output_type": "stream",
     "text": [
      "Sentence:  Pigs are stout-bodied, short-legged, omnivorous mammals, with thick skin usually sparsely coated with short bristles\n",
      "Search:  what is a hog?\n",
      "Cosine similarity:  tensor([[0.6212]])\n",
      "\n",
      "\n",
      "Sentence:  Cows are four-footed and have a large body. It has two horns, two eyes plus two ears and one nose and a mouth. Cows are herbivorous animals.\n",
      "Search:  what is a hog?\n",
      "Cosine similarity:  tensor([[0.4819]])\n",
      "\n",
      "\n",
      "Sentence:  Chickens are average-sized fowls, characterized by smaller heads, short beaks and wings, and a round body perched on featherless legs.\n",
      "Search:  what is a hog?\n",
      "Cosine similarity:  tensor([[0.5185]])\n",
      "\n",
      "\n",
      "Sentence:  NumPy (Numerical Python) is an open source Python library that's used in almost every field of science and engineering. It's the universal standard for working with numerical data in Python, and it's at the core of the scientific Python and PyData ecosystems.\n",
      "Search:  what is a hog?\n",
      "Cosine similarity:  tensor([[0.4864]])\n",
      "\n",
      "\n",
      "[(tensor([[0.6212]]), 'what is a hog?', 'Pigs are stout-bodied, short-legged, omnivorous mammals, with thick skin usually sparsely coated with short bristles'), (tensor([[0.5185]]), 'what is a hog?', 'Chickens are average-sized fowls, characterized by smaller heads, short beaks and wings, and a round body perched on featherless legs.'), (tensor([[0.4864]]), 'what is a hog?', \"NumPy (Numerical Python) is an open source Python library that's used in almost every field of science and engineering. It's the universal standard for working with numerical data in Python, and it's at the core of the scientific Python and PyData ecosystems.\"), (tensor([[0.4819]]), 'what is a hog?', 'Cows are four-footed and have a large body. It has two horns, two eyes plus two ears and one nose and a mouth. Cows are herbivorous animals.')]\n"
     ]
    }
   ],
   "source": [
    "# compute cosine similarities\n",
    "\n",
    "similarities = []\n",
    "\n",
    "for i in list(my_vector_store):\n",
    "    embedding, sentence = i\n",
    "    cos_sim = util.cos_sim(embedding, search_vector)\n",
    "    similarities.append(\n",
    "        (cos_sim, search_text, sentence)\n",
    "    )\n",
    "    print(\"Sentence: \", sentence)\n",
    "    print(\"Search: \", search_text)\n",
    "    print(\"Cosine similarity: \", cos_sim)\n",
    "    print(\"\\n\")\n",
    "\n",
    "# sort based on similarity\n",
    "similarities = sorted(similarities, key=lambda t: t[0], reverse=True)\n",
    "    \n",
    "print(similarities)"
   ]
  },
  {
   "cell_type": "code",
   "execution_count": 45,
   "id": "c2368fef-9560-4af7-84af-61a45d8ac352",
   "metadata": {},
   "outputs": [
    {
     "name": "stdout",
     "output_type": "stream",
     "text": [
      "['Pigs are stout-bodied, short-legged, omnivorous mammals, with thick skin usually sparsely coated with short bristles', 'Chickens are average-sized fowls, characterized by smaller heads, short beaks and wings, and a round body perched on featherless legs.']\n"
     ]
    }
   ],
   "source": [
    "# get top k\n",
    "\n",
    "k = 2\n",
    "\n",
    "top_k = [i[2] for i in similarities[:k]]\n",
    "\n",
    "print(top_k)\n"
   ]
  },
  {
   "cell_type": "code",
   "execution_count": null,
   "id": "58812f84-2a91-450d-9c05-ce40c53aea2d",
   "metadata": {},
   "outputs": [],
   "source": []
  }
 ],
 "metadata": {
  "kernelspec": {
   "display_name": "Python 3 (ipykernel)",
   "language": "python",
   "name": "python3"
  },
  "language_info": {
   "codemirror_mode": {
    "name": "ipython",
    "version": 3
   },
   "file_extension": ".py",
   "mimetype": "text/x-python",
   "name": "python",
   "nbconvert_exporter": "python",
   "pygments_lexer": "ipython3",
   "version": "3.9.17"
  }
 },
 "nbformat": 4,
 "nbformat_minor": 5
}
