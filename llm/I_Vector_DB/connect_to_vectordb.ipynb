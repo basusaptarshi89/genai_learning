{
 "cells": [
  {
   "cell_type": "markdown",
   "id": "bb5e1e55-523e-4be7-aa4a-9cecf9ae384e",
   "metadata": {},
   "source": [
    "#### Connect to the postgres database\n",
    "\n",
    "```sh\n",
    "psql --host=localhost --port=5432  --dbname=vectordb --username=username --password password\n",
    "```\n"
   ]
  },
  {
   "cell_type": "markdown",
   "id": "201838de-2e71-4aee-9929-64cd6bbb664b",
   "metadata": {},
   "source": [
    "#### Reference commands for psql\n",
    "\n",
    "https://hasura.io/blog/top-psql-commands-and-flags-you-need-to-know-postgresql"
   ]
  },
  {
   "cell_type": "markdown",
   "id": "64b9bff0-59c5-486b-81ae-789441728d1b",
   "metadata": {},
   "source": [
    "```sql\n",
    "\n",
    "select * from public.langchain_pg_embedding where collection_id=(select uuid from public.langchain_pg_collection where name='my_vector_embedding_tab');\n",
    "\n",
    "```"
   ]
  }
 ],
 "metadata": {
  "kernelspec": {
   "display_name": "Python 3 (ipykernel)",
   "language": "python",
   "name": "python3"
  },
  "language_info": {
   "codemirror_mode": {
    "name": "ipython",
    "version": 3
   },
   "file_extension": ".py",
   "mimetype": "text/x-python",
   "name": "python",
   "nbconvert_exporter": "python",
   "pygments_lexer": "ipython3",
   "version": "3.9.17"
  }
 },
 "nbformat": 4,
 "nbformat_minor": 5
}
