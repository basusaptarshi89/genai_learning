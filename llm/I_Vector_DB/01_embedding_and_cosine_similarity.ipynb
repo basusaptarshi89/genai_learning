{
 "cells": [
  {
   "cell_type": "markdown",
   "id": "32fdb85f-03b0-4bc3-9e6b-a870251271a3",
   "metadata": {},
   "source": [
    "### Reference\n",
    "\n",
    "https://www.sbert.net/docs/quickstart.html\n"
   ]
  },
  {
   "cell_type": "code",
   "execution_count": 8,
   "id": "8098710a-38ea-4a6e-a827-83a309ae8a10",
   "metadata": {},
   "outputs": [],
   "source": [
    "from sentence_transformers import SentenceTransformer, util"
   ]
  },
  {
   "cell_type": "code",
   "execution_count": null,
   "id": "9ff56517-b04f-4388-a420-ef76303f8c56",
   "metadata": {},
   "outputs": [],
   "source": [
    "model = SentenceTransformer(\n",
    "    model_name_or_path=\"BAAI/bge-large-en-v1.5\",\n",
    "    device=\"cuda\"\n",
    ")"
   ]
  },
  {
   "cell_type": "code",
   "execution_count": 5,
   "id": "fe8adc69-18f4-4e58-a439-99bc04b6fc1d",
   "metadata": {
    "tags": []
   },
   "outputs": [],
   "source": [
    "# our sentences\n",
    "\n",
    "sentences = [\n",
    "    \"Pigs are stout-bodied, short-legged, omnivorous mammals, with thick skin usually sparsely coated with short bristles\",\n",
    "    \"Cows are four-footed and have a large body. It has two horns, two eyes plus two ears and one nose and a mouth. Cows are herbivorous animals.\",\n",
    "    \"Chickens are average-sized fowls, characterized by smaller heads, short beaks and wings, and a round body perched on featherless legs.\",\n",
    "    \"NumPy (Numerical Python) is an open source Python library that's used in almost every field of science and engineering. It's the universal standard for working with numerical data in Python, and it's at the core of the scientific Python and PyData ecosystems.\"\n",
    "]"
   ]
  },
  {
   "cell_type": "code",
   "execution_count": 6,
   "id": "cb7afa11-8e28-4d30-9d46-6a0b0849951c",
   "metadata": {},
   "outputs": [],
   "source": [
    "sentence_embeddings = model.encode(\n",
    "    sentences=sentences,\n",
    "    normalize_embeddings=True\n",
    ")"
   ]
  },
  {
   "cell_type": "code",
   "execution_count": 7,
   "id": "530b3341-0535-4fa2-9924-b7bd843630cd",
   "metadata": {},
   "outputs": [
    {
     "name": "stdout",
     "output_type": "stream",
     "text": [
      "Sentence: Pigs are stout-bodied, short-legged, omnivorous mammals, with thick skin usually sparsely coated with short bristles\n",
      "Embedding: [ 0.03743297  0.0098348   0.0515419  ... -0.01589401  0.00090886\n",
      " -0.04270858]\n",
      "\n",
      "Sentence: Cows are four-footed and have a large body. It has two horns, two eyes plus two ears and one nose and a mouth. Cows are herbivorous animals.\n",
      "Embedding: [ 0.01551647 -0.00368842 -0.00027022 ...  0.00770947 -0.01678138\n",
      "  0.00631208]\n",
      "\n",
      "Sentence: Chickens are average-sized fowls, characterized by smaller heads, short beaks and wings, and a round body perched on featherless legs.\n",
      "Embedding: [ 0.00284758  0.01925585  0.02077549 ... -0.00314734  0.0141667\n",
      " -0.03367088]\n",
      "\n",
      "Sentence: NumPy (Numerical Python) is an open source Python library that's used in almost every field of science and engineering. It's the universal standard for working with numerical data in Python, and it's at the core of the scientific Python and PyData ecosystems.\n",
      "Embedding: [ 0.01973291  0.00506833 -0.04329247 ...  0.01556299 -0.00930898\n",
      "  0.01117883]\n",
      "\n"
     ]
    }
   ],
   "source": [
    "for sentence, embedding in zip(sentences, sentence_embeddings):\n",
    "    print(\"Sentence:\", sentence)\n",
    "    print(\"Embedding:\", embedding)\n",
    "    print(\"\")"
   ]
  },
  {
   "cell_type": "code",
   "execution_count": 9,
   "id": "7d85b03a-ab42-4358-9ff1-ade248cdc20e",
   "metadata": {},
   "outputs": [
    {
     "name": "stdout",
     "output_type": "stream",
     "text": [
      "Cosine similarity: tensor([[0.6423]])\n",
      "Cosine similarity: tensor([[0.3071]])\n"
     ]
    }
   ],
   "source": [
    "# comparing sentence similarities \n",
    "\n",
    "emb1 = model.encode(\n",
    "    \"Pigs are stout-bodied, short-legged, omnivorous mammals, with thick skin usually sparsely coated with short bristles\",\n",
    "    normalize_embeddings=True\n",
    ")\n",
    "\n",
    "emb2 = model.encode(\n",
    "    \"Cows are four-footed and have a large body. It has two horns, two eyes plus two ears and one nose and a mouth. Cows are herbivorous animals.\",\n",
    "    normalize_embeddings=True\n",
    ")\n",
    "\n",
    "emb3 = model.encode(\n",
    "    \"Harry Potter went to Hogwarts when he was 11.\",\n",
    "    normalize_embeddings=True\n",
    ")\n",
    "\n",
    "cos_sim = util.cos_sim(emb1, emb2)\n",
    "print(\"Cosine similarity:\", cos_sim)\n",
    "\n",
    "cos_sim = util.cos_sim(emb1, emb3)\n",
    "print(\"Cosine similarity:\", cos_sim)"
   ]
  },
  {
   "cell_type": "code",
   "execution_count": 16,
   "id": "8e9f21d9-f784-41eb-8447-7e1a9c2a6bfe",
   "metadata": {},
   "outputs": [
    {
     "name": "stdout",
     "output_type": "stream",
     "text": [
      "tensor([[ 1.0000,  0.7553, -0.1050,  0.2474, -0.0704, -0.0333,  0.1707,  0.0476,\n",
      "          0.0630],\n",
      "        [ 0.7553,  1.0000, -0.0610,  0.1442, -0.0809, -0.0216,  0.1157,  0.0362,\n",
      "          0.0216],\n",
      "        [-0.1050, -0.0610,  1.0000, -0.1088,  0.0217, -0.0413, -0.0928,  0.0231,\n",
      "          0.0247],\n",
      "        [ 0.2474,  0.1442, -0.1088,  1.0000, -0.0348,  0.0362,  0.7369,  0.0821,\n",
      "          0.1389],\n",
      "        [-0.0704, -0.0809,  0.0217, -0.0348,  1.0000, -0.1654, -0.0592,  0.1961,\n",
      "          0.2564],\n",
      "        [-0.0333, -0.0216, -0.0413,  0.0362, -0.1654,  1.0000,  0.0769, -0.0380,\n",
      "         -0.0895],\n",
      "        [ 0.1707,  0.1157, -0.0928,  0.7369, -0.0592,  0.0769,  1.0000,  0.0495,\n",
      "          0.1191],\n",
      "        [ 0.0476,  0.0362,  0.0231,  0.0821,  0.1961, -0.0380,  0.0495,  1.0000,\n",
      "          0.6433],\n",
      "        [ 0.0630,  0.0216,  0.0247,  0.1389,  0.2564, -0.0895,  0.1191,  0.6433,\n",
      "          1.0000]])\n"
     ]
    }
   ],
   "source": [
    "# compare cosine similarities across a bunch of sentences\n",
    "\n",
    "from sentence_transformers import SentenceTransformer, util\n",
    "\n",
    "model = SentenceTransformer(\"all-MiniLM-L6-v2\")\n",
    "\n",
    "sentences = [\n",
    "    \"A man is eating food.\",\n",
    "    \"A man is eating a piece of bread.\",\n",
    "    \"The girl is carrying a baby.\",\n",
    "    \"A man is riding a horse.\",\n",
    "    \"A woman is playing violin.\",\n",
    "    \"Two men pushed carts through the woods.\",\n",
    "    \"A man is riding a white horse on an enclosed ground.\",\n",
    "    \"A monkey is playing drums.\",\n",
    "    \"Someone in a gorilla costume is playing a set of drums.\",\n",
    "]\n",
    "\n",
    "# Encode all sentences\n",
    "embeddings = model.encode(sentences)\n",
    "\n",
    "# Compute cosine similarity between all pairs\n",
    "cos_sim = util.cos_sim(embeddings, embeddings)\n",
    "\n",
    "# 2D matrix of cosine similarities (nXn - square)\n",
    "# Notice: the values of leading diagonal are all 1.0\n",
    "#\n",
    "#            sentence1  sentence2  sentence3 ...\n",
    "# sentence1        1.0       0.75       0.24 ... \n",
    "# sentence2       0.12        1.0       0.65 ...\n",
    "# sentence3       0.29       0.33        1.0 ...\n",
    "# ...              ...        ...        ... \n",
    "# ...              ...        ...        ...\n",
    "\n",
    "print(cos_sim)"
   ]
  },
  {
   "cell_type": "code",
   "execution_count": 18,
   "id": "f00ccc2b-a193-471b-a014-6dc0804edd67",
   "metadata": {},
   "outputs": [
    {
     "name": "stdout",
     "output_type": "stream",
     "text": [
      "All cosine similarities:\n",
      "A man is eating food. \t A man is eating a piece of bread. \t 0.7553\n",
      "A man is riding a horse. \t A man is riding a white horse on an enclosed ground. \t 0.7369\n",
      "A monkey is playing drums. \t Someone in a gorilla costume is playing a set of drums. \t 0.6433\n",
      "A woman is playing violin. \t Someone in a gorilla costume is playing a set of drums. \t 0.2564\n",
      "A man is eating food. \t A man is riding a horse. \t 0.2474\n",
      "A woman is playing violin. \t A monkey is playing drums. \t 0.1961\n",
      "A man is eating food. \t A man is riding a white horse on an enclosed ground. \t 0.1707\n",
      "A man is eating a piece of bread. \t A man is riding a horse. \t 0.1442\n",
      "A man is riding a horse. \t Someone in a gorilla costume is playing a set of drums. \t 0.1389\n",
      "A man is riding a white horse on an enclosed ground. \t Someone in a gorilla costume is playing a set of drums. \t 0.1191\n",
      "A man is eating a piece of bread. \t A man is riding a white horse on an enclosed ground. \t 0.1157\n",
      "A man is riding a horse. \t A monkey is playing drums. \t 0.0821\n",
      "Two men pushed carts through the woods. \t A man is riding a white horse on an enclosed ground. \t 0.0769\n",
      "A man is eating food. \t Someone in a gorilla costume is playing a set of drums. \t 0.0630\n",
      "A man is riding a white horse on an enclosed ground. \t A monkey is playing drums. \t 0.0495\n",
      "A man is eating food. \t A monkey is playing drums. \t 0.0476\n",
      "A man is eating a piece of bread. \t A monkey is playing drums. \t 0.0362\n",
      "A man is riding a horse. \t Two men pushed carts through the woods. \t 0.0362\n",
      "The girl is carrying a baby. \t Someone in a gorilla costume is playing a set of drums. \t 0.0247\n",
      "The girl is carrying a baby. \t A monkey is playing drums. \t 0.0231\n",
      "The girl is carrying a baby. \t A woman is playing violin. \t 0.0217\n",
      "A man is eating a piece of bread. \t Someone in a gorilla costume is playing a set of drums. \t 0.0216\n",
      "A man is eating a piece of bread. \t Two men pushed carts through the woods. \t -0.0216\n",
      "A man is eating food. \t Two men pushed carts through the woods. \t -0.0333\n",
      "A man is riding a horse. \t A woman is playing violin. \t -0.0348\n",
      "Two men pushed carts through the woods. \t A monkey is playing drums. \t -0.0380\n",
      "The girl is carrying a baby. \t Two men pushed carts through the woods. \t -0.0413\n",
      "A woman is playing violin. \t A man is riding a white horse on an enclosed ground. \t -0.0592\n",
      "A man is eating a piece of bread. \t The girl is carrying a baby. \t -0.0610\n",
      "A man is eating food. \t A woman is playing violin. \t -0.0704\n",
      "A man is eating a piece of bread. \t A woman is playing violin. \t -0.0809\n",
      "Two men pushed carts through the woods. \t Someone in a gorilla costume is playing a set of drums. \t -0.0895\n",
      "The girl is carrying a baby. \t A man is riding a white horse on an enclosed ground. \t -0.0928\n",
      "A man is eating food. \t The girl is carrying a baby. \t -0.1050\n",
      "The girl is carrying a baby. \t A man is riding a horse. \t -0.1088\n",
      "A woman is playing violin. \t Two men pushed carts through the woods. \t -0.1654\n"
     ]
    }
   ],
   "source": [
    "# Add all pairs to a list with their cosine similarity score\n",
    "all_sentence_combinations = []\n",
    "for i in range(len(cos_sim) - 1):\n",
    "    for j in range(i + 1, len(cos_sim)):\n",
    "        all_sentence_combinations.append([cos_sim[i][j], i, j])\n",
    "\n",
    "# Sort list by the highest cosine similarity score\n",
    "all_sentence_combinations = sorted(all_sentence_combinations, key=lambda x: x[0], reverse=True)\n",
    "\n",
    "# print(all_sentence_combinations)\n",
    "\n",
    "# print(\"Top-5 most similar pairs:\")\n",
    "# for score, i, j in all_sentence_combinations[0:5]:\n",
    "#     print(\"{} \\t {} \\t {:.4f}\".format(sentences[i], sentences[j], cos_sim[i][j]))\n",
    "    \n",
    "print(\"All cosine similarities:\")\n",
    "for score, i, j in all_sentence_combinations:\n",
    "    print(\"{} \\t {} \\t {:.4f}\".format(sentences[i], sentences[j], cos_sim[i][j]))"
   ]
  },
  {
   "cell_type": "code",
   "execution_count": null,
   "id": "1282d709-8be6-4e81-a05e-b47fd21eac4a",
   "metadata": {},
   "outputs": [],
   "source": []
  }
 ],
 "metadata": {
  "kernelspec": {
   "display_name": "Python 3 (ipykernel)",
   "language": "python",
   "name": "python3"
  },
  "language_info": {
   "codemirror_mode": {
    "name": "ipython",
    "version": 3
   },
   "file_extension": ".py",
   "mimetype": "text/x-python",
   "name": "python",
   "nbconvert_exporter": "python",
   "pygments_lexer": "ipython3",
   "version": "3.9.17"
  }
 },
 "nbformat": 4,
 "nbformat_minor": 5
}
