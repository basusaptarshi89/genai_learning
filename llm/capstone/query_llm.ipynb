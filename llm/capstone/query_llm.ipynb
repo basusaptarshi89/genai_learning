{
 "cells": [
  {
   "cell_type": "markdown",
   "id": "7b3a6d85-bf01-4459-b743-c755af4978b2",
   "metadata": {},
   "source": [
    "## Load the synthetic data (PDF files) and split/chunk the documents"
   ]
  },
  {
   "cell_type": "code",
   "execution_count": null,
   "id": "b2011a78-aa75-46b7-88a9-244e21506410",
   "metadata": {},
   "outputs": [],
   "source": [
    "import glob"
   ]
  },
  {
   "cell_type": "code",
   "execution_count": 2,
   "id": "43e6003a-505c-44a6-8e39-51e97ef94507",
   "metadata": {},
   "outputs": [
    {
     "ename": "NameError",
     "evalue": "name 'glob' is not defined",
     "output_type": "error",
     "traceback": [
      "\u001b[0;31m---------------------------------------------------------------------------\u001b[0m",
      "\u001b[0;31mNameError\u001b[0m                                 Traceback (most recent call last)",
      "Cell \u001b[0;32mIn[2], line 2\u001b[0m\n\u001b[1;32m      1\u001b[0m documents_path \u001b[38;5;241m=\u001b[39m \u001b[38;5;124m\"\u001b[39m\u001b[38;5;124m/home/ubuntu/genai_learning/llm/data\u001b[39m\u001b[38;5;124m\"\u001b[39m\n\u001b[0;32m----> 2\u001b[0m pdf_files \u001b[38;5;241m=\u001b[39m \u001b[43mglob\u001b[49m\u001b[38;5;241m.\u001b[39mglob(\u001b[38;5;124mf\u001b[39m\u001b[38;5;124m\"\u001b[39m\u001b[38;5;132;01m{\u001b[39;00mdocuments_path\u001b[38;5;132;01m}\u001b[39;00m\u001b[38;5;124m/*.pdf\u001b[39m\u001b[38;5;124m\"\u001b[39m)\n\u001b[1;32m      4\u001b[0m pprint(pdf_files)\n",
      "\u001b[0;31mNameError\u001b[0m: name 'glob' is not defined"
     ]
    }
   ],
   "source": [
    "documents_path = \"/home/ubuntu/genai_learning/llm/data\"\n",
    "pdf_files = glob.glob(f\"{documents_path}/*.pdf\")\n",
    "\n",
    "pprint(pdf_files)"
   ]
  },
  {
   "cell_type": "code",
   "execution_count": null,
   "id": "5014e0a5-765f-448d-a397-1863e3fc67f6",
   "metadata": {},
   "outputs": [],
   "source": []
  },
  {
   "cell_type": "markdown",
   "id": "0e9ebf64-aec0-4031-a8d4-2a6f0d4f9d1e",
   "metadata": {},
   "source": [
    "## Create vector embedding of the loaded data (PDF files)"
   ]
  },
  {
   "cell_type": "markdown",
   "id": "59605e31-7eee-4f91-9c99-822a2d7a38b7",
   "metadata": {},
   "source": [
    "## Save vector embeddings to Vector store (pgvector)"
   ]
  },
  {
   "cell_type": "markdown",
   "id": "6499625d-ddb5-47a9-a1be-e4155b1cd517",
   "metadata": {},
   "source": [
    "## Create LLM prompt"
   ]
  },
  {
   "cell_type": "markdown",
   "id": "98526387-1836-4e94-930f-ccf72bd7eacb",
   "metadata": {},
   "source": [
    "## Query LLM with RAG"
   ]
  }
 ],
 "metadata": {
  "kernelspec": {
   "display_name": "Python 3 (ipykernel)",
   "language": "python",
   "name": "python3"
  },
  "language_info": {
   "codemirror_mode": {
    "name": "ipython",
    "version": 3
   },
   "file_extension": ".py",
   "mimetype": "text/x-python",
   "name": "python",
   "nbconvert_exporter": "python",
   "pygments_lexer": "ipython3",
   "version": "3.9.17"
  }
 },
 "nbformat": 4,
 "nbformat_minor": 5
}
