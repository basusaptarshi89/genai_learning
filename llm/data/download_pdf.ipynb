{
 "cells": [
  {
   "cell_type": "code",
   "execution_count": 1,
   "id": "0a272d6b-6656-4130-9fcf-60a174a2759c",
   "metadata": {},
   "outputs": [],
   "source": [
    "import boto3"
   ]
  },
  {
   "cell_type": "code",
   "execution_count": 3,
   "id": "655091df-9cf8-47bf-ac11-76e95e06e3c0",
   "metadata": {},
   "outputs": [
    {
     "name": "stdout",
     "output_type": "stream",
     "text": [
      "{'Buckets': [{'CreationDate': datetime.datetime(2024, 3, 25, 16, 54, 23, tzinfo=tzlocal()),\n",
      "              'Name': 'cf-templates-4mmcwmbx1moy-us-east-1'},\n",
      "             {'CreationDate': datetime.datetime(2024, 4, 3, 6, 42, 45, tzinfo=tzlocal()),\n",
      "              'Name': 'com-merck-genaibootcamp-apr24'}],\n",
      " 'Owner': {'DisplayName': 'mmc-desx-RYM9',\n",
      "           'ID': '3f8c12970bce46d015a0eeb99bc12123f4f6473d24ce9ae417e08fed8ae3fbd0'},\n",
      " 'ResponseMetadata': {'HTTPHeaders': {'content-type': 'application/xml',\n",
      "                                      'date': 'Sun, 07 Apr 2024 17:24:58 GMT',\n",
      "                                      'server': 'AmazonS3',\n",
      "                                      'transfer-encoding': 'chunked',\n",
      "                                      'x-amz-id-2': 'PGXWlw5ZxfZkmTaXSFYZ6fYG5Gm9ezLEHo9/DbqhFZNV2M34HXXffNlFaUID8HQ0MYK9k0TMIHY=',\n",
      "                                      'x-amz-request-id': 'T6CWG9DPF9C4YMQD'},\n",
      "                      'HTTPStatusCode': 200,\n",
      "                      'HostId': 'PGXWlw5ZxfZkmTaXSFYZ6fYG5Gm9ezLEHo9/DbqhFZNV2M34HXXffNlFaUID8HQ0MYK9k0TMIHY=',\n",
      "                      'RequestId': 'T6CWG9DPF9C4YMQD',\n",
      "                      'RetryAttempts': 0}}\n"
     ]
    }
   ],
   "source": [
    "from pprint import pprint\n",
    "client = boto3.client('s3')\n",
    "\n",
    "response = client.list_buckets()\n",
    "pprint(response)"
   ]
  },
  {
   "cell_type": "code",
   "execution_count": null,
   "id": "4f310563-8c94-4671-912d-f3cb14984966",
   "metadata": {},
   "outputs": [],
   "source": [
    "bucket_name = \"com-merck-genaibootcamp-apr24\""
   ]
  },
  {
   "cell_type": "code",
   "execution_count": 8,
   "id": "5c4853d3-83ba-4e4e-a682-1d96c76dabf4",
   "metadata": {},
   "outputs": [
    {
     "name": "stdout",
     "output_type": "stream",
     "text": [
      "['MSL_Notes_1.pdf', 'MSL_Notes_10.pdf', 'MSL_Notes_11.pdf', 'MSL_Notes_12.pdf', 'MSL_Notes_13.pdf', 'MSL_Notes_14.pdf', 'MSL_Notes_15.pdf', 'MSL_Notes_16.pdf', 'MSL_Notes_17.pdf', 'MSL_Notes_18.pdf', 'MSL_Notes_19.pdf', 'MSL_Notes_2.pdf', 'MSL_Notes_20.pdf', 'MSL_Notes_21.pdf', 'MSL_Notes_22.pdf', 'MSL_Notes_23.pdf', 'MSL_Notes_24.pdf', 'MSL_Notes_25.pdf', 'MSL_Notes_26.pdf', 'MSL_Notes_27.pdf', 'MSL_Notes_28.pdf', 'MSL_Notes_29.pdf', 'MSL_Notes_3.pdf', 'MSL_Notes_30.pdf', 'MSL_Notes_31.pdf', 'MSL_Notes_32.pdf', 'MSL_Notes_33.pdf', 'MSL_Notes_34.pdf', 'MSL_Notes_35.pdf', 'MSL_Notes_4.pdf', 'MSL_Notes_5.pdf', 'MSL_Notes_6.pdf', 'MSL_Notes_7.pdf', 'MSL_Notes_8.pdf', 'MSL_Notes_9.pdf']\n"
     ]
    }
   ],
   "source": [
    "response = client.list_objects(Bucket=bucket_name)\n",
    "# pprint(response)\n",
    "\n",
    "file_keys = [item[\"Key\"] for item in response[\"Contents\"]]\n",
    "print(file_keys)"
   ]
  },
  {
   "cell_type": "code",
   "execution_count": 9,
   "id": "67288e65-a3a6-4198-89b9-87c2146dd4a7",
   "metadata": {},
   "outputs": [],
   "source": [
    "s3 = boto3.resource('s3')\n",
    "\n",
    "for file_key in file_keys:\n",
    "    s3.meta.client.download_file(bucket_name, file_key, file_key)"
   ]
  },
  {
   "cell_type": "code",
   "execution_count": null,
   "id": "0f6c46a6-28c3-4cbe-a45d-231373ea44c8",
   "metadata": {},
   "outputs": [],
   "source": []
  }
 ],
 "metadata": {
  "kernelspec": {
   "display_name": "Python 3 (ipykernel)",
   "language": "python",
   "name": "python3"
  },
  "language_info": {
   "codemirror_mode": {
    "name": "ipython",
    "version": 3
   },
   "file_extension": ".py",
   "mimetype": "text/x-python",
   "name": "python",
   "nbconvert_exporter": "python",
   "pygments_lexer": "ipython3",
   "version": "3.9.17"
  }
 },
 "nbformat": 4,
 "nbformat_minor": 5
}
